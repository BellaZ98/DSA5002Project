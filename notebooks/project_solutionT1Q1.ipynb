{
 "cells": [
  {
   "cell_type": "code",
   "execution_count": 1,
   "id": "initial_id",
   "metadata": {
    "collapsed": true,
    "ExecuteTime": {
     "end_time": "2023-12-05T13:08:28.088966600Z",
     "start_time": "2023-12-05T13:08:27.071972400Z"
    }
   },
   "outputs": [],
   "source": [
    "import pandas as pd\n",
    "import json\n",
    "from tqdm.notebook import tqdm as tqdm\n",
    "import swifter\n",
    "import numpy as np\n",
    "file_root = 'D:/Career/HKUST(GZ)/5002/dsaa5002_project/'"
   ]
  },
  {
   "cell_type": "code",
   "execution_count": 2,
   "id": "f4df12eca52b6173",
   "metadata": {
    "ExecuteTime": {
     "end_time": "2023-12-05T13:08:28.103479300Z",
     "start_time": "2023-12-05T13:08:28.089966Z"
    }
   },
   "outputs": [],
   "source": [
    "# Import the A-share list\n",
    "with open(file_root + 'A_share_list.json', 'r', encoding='utf-8') as file:\n",
    "    A_share_list = json.load(file)\n",
    "comp_all = []\n",
    "for c in A_share_list:\n",
    "    comp_all.append([c['name'], c['code'], c['fullname']])\n",
    "companies_df = pd.DataFrame(comp_all, columns=['name', 'code', 'fullname'])"
   ]
  },
  {
   "cell_type": "code",
   "execution_count": 7,
   "id": "cd0b1cdd6011fa73",
   "metadata": {
    "ExecuteTime": {
     "end_time": "2023-12-05T13:14:33.592565900Z",
     "start_time": "2023-12-05T13:13:23.419812200Z"
    }
   },
   "outputs": [],
   "source": [
    "news_all = pd.read_excel(file_root + 'News.xlsx', sheet_name='Sheet1')\n",
    "cnt_all = len(news_all)"
   ]
  },
  {
   "cell_type": "code",
   "execution_count": 4,
   "id": "66ad2db9882c065e",
   "metadata": {
    "ExecuteTime": {
     "end_time": "2023-12-05T06:52:17.634997100Z",
     "start_time": "2023-12-05T06:52:13.792064800Z"
    }
   },
   "outputs": [],
   "source": [
    "# Clean the news content\n",
    "news_all['NewsContent'] = news_all['NewsContent'].fillna('').astype(str).str.replace('[\\u3000\\t\\n]', '', regex=True)"
   ]
  },
  {
   "cell_type": "markdown",
   "id": "e1239236c6a7a86f",
   "metadata": {},
   "source": [
    "## Construct the filter for the news"
   ]
  },
  {
   "cell_type": "code",
   "execution_count": 6,
   "id": "2e2e0ae3a8e927bb",
   "metadata": {
    "ExecuteTime": {
     "end_time": "2023-12-05T06:52:17.810231300Z",
     "start_time": "2023-12-05T06:52:17.763192Z"
    }
   },
   "outputs": [
    {
     "data": {
      "text/html": [
       "<div>\n",
       "<style scoped>\n",
       "    .dataframe tbody tr th:only-of-type {\n",
       "        vertical-align: middle;\n",
       "    }\n",
       "\n",
       "    .dataframe tbody tr th {\n",
       "        vertical-align: top;\n",
       "    }\n",
       "\n",
       "    .dataframe thead th {\n",
       "        text-align: right;\n",
       "    }\n",
       "</style>\n",
       "<table border=\"1\" class=\"dataframe\">\n",
       "  <thead>\n",
       "    <tr style=\"text-align: right;\">\n",
       "      <th></th>\n",
       "      <th>NewsID</th>\n",
       "    </tr>\n",
       "  </thead>\n",
       "  <tbody>\n",
       "    <tr>\n",
       "      <th>count</th>\n",
       "      <td>1.037035e+06</td>\n",
       "    </tr>\n",
       "    <tr>\n",
       "      <th>mean</th>\n",
       "      <td>5.185180e+05</td>\n",
       "    </tr>\n",
       "    <tr>\n",
       "      <th>std</th>\n",
       "      <td>2.993664e+05</td>\n",
       "    </tr>\n",
       "    <tr>\n",
       "      <th>min</th>\n",
       "      <td>1.000000e+00</td>\n",
       "    </tr>\n",
       "    <tr>\n",
       "      <th>25%</th>\n",
       "      <td>2.592595e+05</td>\n",
       "    </tr>\n",
       "    <tr>\n",
       "      <th>50%</th>\n",
       "      <td>5.185180e+05</td>\n",
       "    </tr>\n",
       "    <tr>\n",
       "      <th>75%</th>\n",
       "      <td>7.777765e+05</td>\n",
       "    </tr>\n",
       "    <tr>\n",
       "      <th>max</th>\n",
       "      <td>1.037035e+06</td>\n",
       "    </tr>\n",
       "  </tbody>\n",
       "</table>\n",
       "</div>"
      ],
      "text/plain": [
       "             NewsID\n",
       "count  1.037035e+06\n",
       "mean   5.185180e+05\n",
       "std    2.993664e+05\n",
       "min    1.000000e+00\n",
       "25%    2.592595e+05\n",
       "50%    5.185180e+05\n",
       "75%    7.777765e+05\n",
       "max    1.037035e+06"
      ]
     },
     "execution_count": 6,
     "metadata": {},
     "output_type": "execute_result"
    }
   ],
   "source": [
    "pd.set_option('display.float_format', None)\n",
    "news_all.describe()"
   ]
  },
  {
   "cell_type": "code",
   "execution_count": 18,
   "id": "e484d3233d597c65",
   "metadata": {
    "ExecuteTime": {
     "end_time": "2023-12-05T13:27:09.978341200Z",
     "start_time": "2023-12-05T13:27:09.799375900Z"
    }
   },
   "outputs": [
    {
     "name": "stdout",
     "output_type": "stream",
     "text": [
      "The number of news with no content is reduced from 1037035 to 1037035, a total reduction of 0\n",
      "Filter rate = 0.0\n"
     ]
    }
   ],
   "source": [
    "# Clean the news with no content\n",
    "cnt_before = len(news_all)\n",
    "news_filtered = news_all[news_all['NewsContent'] != '']\n",
    "cnt_after = len(news_filtered)\n",
    "print('The number of news with no content is reduced from {} to {}, a total reduction of {}'.format(cnt_before, cnt_after, cnt_before - cnt_after))\n",
    "print('Filter rate = {}'.format((cnt_before - cnt_after) / cnt_all))"
   ]
  },
  {
   "cell_type": "code",
   "execution_count": 19,
   "id": "552ebe282a77af4e",
   "metadata": {
    "ExecuteTime": {
     "end_time": "2023-12-05T13:27:10.397433200Z",
     "start_time": "2023-12-05T13:27:10.300315Z"
    }
   },
   "outputs": [
    {
     "name": "stdout",
     "output_type": "stream",
     "text": [
      "The number of news with source from international media is reduced from 1037035 to 1031250, a total reduction of 5785\n",
      "Filter rate = 0.005578403814721779\n"
     ]
    }
   ],
   "source": [
    "# Clean the news with source from international media\n",
    "cnt_before = len(news_filtered)\n",
    "sources_to_filter = ['GCI', 'IFX', 'ACM', 'Admiral Markets', '3TG PLUS', 'ACY稀万国际', 'FBS', 'FxPro', 'FXCM', 'Domino多米乐', 'Activtrades', 'Hotforex', 'HPCforex', 'CMS/VT', 'Ikon Asia', 'IFX', 'www.cnforex.com', 'XFNA', 'NordFX', 'UBEforex', 'XTB', 'NordFX', 'Wind', 'OANDA', 'Markets.com', 'PNKForex', 'RocoForex', 'SFA外汇']\n",
    "news_filtered = news_filtered[~news_filtered['NewsSource'].isin(sources_to_filter)]\n",
    "cnt_after = len(news_filtered)\n",
    "print('The number of news with source from international media is reduced from {} to {}, a total reduction of {}'.format(cnt_before, cnt_after, cnt_before - cnt_after))\n",
    "print('Filter rate = {}'.format((cnt_before - cnt_after) / cnt_all))"
   ]
  },
  {
   "cell_type": "code",
   "execution_count": 20,
   "id": "c5e131cdc8970f61",
   "metadata": {
    "ExecuteTime": {
     "end_time": "2023-12-05T13:27:11.470684200Z",
     "start_time": "2023-12-05T13:27:10.878521600Z"
    }
   },
   "outputs": [
    {
     "name": "stdout",
     "output_type": "stream",
     "text": [
      "The number of news in English is reduced from 1031250 to 1022307, a total reduction of 8943\n",
      "Filter rate = 0.008623624082118734\n"
     ]
    }
   ],
   "source": [
    "# Clean the news that is not in Chinese\n",
    "cnt_before = len(news_filtered)\n",
    "def contains_chinese(text):\n",
    "    return any(u'\\u4e00' <= char <= u'\\u9fff' for char in text)\n",
    "news_filtered = news_filtered[news_filtered['Title'].apply(contains_chinese)]\n",
    "cnt_after = len(news_filtered)\n",
    "print('The number of news in English is reduced from {} to {}, a total reduction of {}'.format(cnt_before, cnt_after, cnt_before - cnt_after))\n",
    "print('Filter rate = {}'.format((cnt_before - cnt_after) / cnt_all))"
   ]
  },
  {
   "cell_type": "code",
   "execution_count": 21,
   "id": "eed1d4045d10c992",
   "metadata": {
    "ExecuteTime": {
     "end_time": "2023-12-05T13:27:12.451841200Z",
     "start_time": "2023-12-05T13:27:12.312455100Z"
    }
   },
   "outputs": [
    {
     "name": "stdout",
     "output_type": "stream",
     "text": [
      "The number of news that is duplicated is reduced from 1022307 to 995629, a total reduction of 26678\n",
      "Filter rate = 0.025725264817484463\n"
     ]
    }
   ],
   "source": [
    "# Clean the news that is duplicated\n",
    "cnt_before = len(news_filtered)\n",
    "news_filtered = news_filtered.drop_duplicates(subset='Title', keep='first')\n",
    "cnt_after = len(news_filtered)\n",
    "print('The number of news that is duplicated is reduced from {} to {}, a total reduction of {}'.format(cnt_before, cnt_after, cnt_before - cnt_after))\n",
    "print('Filter rate = {}'.format((cnt_before - cnt_after) / cnt_all))"
   ]
  },
  {
   "cell_type": "markdown",
   "id": "5494c9beded4d1bb",
   "metadata": {},
   "source": [
    "## Rough match the news with the A-share list"
   ]
  },
  {
   "cell_type": "code",
   "execution_count": 11,
   "id": "1fdd9e647b42af07",
   "metadata": {
    "ExecuteTime": {
     "end_time": "2023-12-05T06:52:24.982119800Z",
     "start_time": "2023-12-05T06:52:18.731649900Z"
    }
   },
   "outputs": [],
   "source": [
    "news_filtered['Title&Content'] = news_filtered.apply(lambda row: row['Title'] + ' ' + row['NewsContent'], axis=1)"
   ]
  },
  {
   "cell_type": "code",
   "execution_count": 9,
   "id": "3bcd85830d212e6a",
   "metadata": {
    "ExecuteTime": {
     "end_time": "2023-12-05T08:12:11.212073500Z",
     "start_time": "2023-12-05T08:12:10.953426200Z"
    }
   },
   "outputs": [],
   "source": [
    "name_mapping = {row['fullname']: row['name'] for _, row in companies_df.iterrows()}\n",
    "name_mapping.update({row['code']: row['name'] for _, row in companies_df.iterrows()})\n",
    "\n",
    "company_terms = set(companies_df['name']) | set(companies_df['fullname']) | set(companies_df['code'])\n",
    "\n",
    "def find_companies_optimized(text):\n",
    "    companies = set()\n",
    "    for term in company_terms:\n",
    "        if term in text:\n",
    "            # 如果 term 是 fullname 或 code，获取对应的 name\n",
    "            company_name = name_mapping.get(term, term)\n",
    "            companies.add(company_name)\n",
    "    return list(companies) if companies else None\n"
   ]
  },
  {
   "cell_type": "code",
   "execution_count": 10,
   "id": "2bcc26841ba5ecf8",
   "metadata": {
    "ExecuteTime": {
     "end_time": "2023-12-05T08:58:54.839970300Z",
     "start_time": "2023-12-05T08:13:01.166148400Z"
    }
   },
   "outputs": [
    {
     "data": {
      "application/vnd.jupyter.widget-view+json": {
       "model_id": "8214dce9b6ad4906ba748b7373a9a082",
       "version_major": 2,
       "version_minor": 0
      },
      "text/plain": [
       "Pandas Apply:   0%|          | 0/995457 [00:00<?, ?it/s]"
      ]
     },
     "metadata": {},
     "output_type": "display_data"
    }
   ],
   "source": [
    "news_filtered['Company'] = news_filtered['Title&Content'].swifter.apply(find_companies_optimized)"
   ]
  },
  {
   "cell_type": "code",
   "execution_count": 11,
   "id": "76e5e30c6acf4c41",
   "metadata": {
    "ExecuteTime": {
     "end_time": "2023-12-05T08:58:58.391809500Z",
     "start_time": "2023-12-05T08:58:54.843972300Z"
    }
   },
   "outputs": [
    {
     "name": "stdout",
     "output_type": "stream",
     "text": [
      "The number of news that can be roughly matched is 473334\n",
      "The number of news that cannot be roughly matched is 522123\n"
     ]
    }
   ],
   "source": [
    "# Split the news into two parts\n",
    "news_to_match = news_filtered[news_filtered['Company'].isna()]\n",
    "print('The number of news that can be roughly matched is {}'.format(len(news_filtered) - len(news_to_match)))\n",
    "print('The number of news that cannot be roughly matched is {}'.format(len(news_to_match)))"
   ]
  },
  {
   "cell_type": "code",
   "execution_count": 12,
   "id": "244328209afd787",
   "metadata": {
    "ExecuteTime": {
     "end_time": "2023-12-05T08:59:22.306664900Z",
     "start_time": "2023-12-05T08:58:58.391809500Z"
    }
   },
   "outputs": [],
   "source": [
    "news_to_match.to_csv(file_root + 'news_to_match.csv', encoding='utf-8-sig', index=False)\n",
    "news_filtered.to_csv(file_root + 'News_filtered.csv', encoding='utf-8-sig', index=False)"
   ]
  },
  {
   "cell_type": "code",
   "execution_count": 4,
   "id": "4ac361f5a0c50155",
   "metadata": {
    "ExecuteTime": {
     "end_time": "2023-12-05T13:11:03.560861300Z",
     "start_time": "2023-12-05T13:10:35.459247500Z"
    }
   },
   "outputs": [],
   "source": [
    "# news_to_match = pd.read_csv(file_root + 'news_to_match.csv', encoding='utf-8-sig')\n",
    "# news_filtered = pd.read_csv(file_root + 'News_filtered.csv', encoding='utf-8-sig')"
   ]
  },
  {
   "cell_type": "code",
   "execution_count": 14,
   "id": "34464ac9cef4bda5",
   "metadata": {
    "ExecuteTime": {
     "end_time": "2023-12-05T08:59:22.340229300Z",
     "start_time": "2023-12-05T08:59:22.325716600Z"
    }
   },
   "outputs": [],
   "source": [
    "# import ast\n",
    "# news_to_match['Orgs'] = news_to_match['Orgs'].apply(ast.literal_eval)\n",
    "# news_to_match.head(5)"
   ]
  },
  {
   "cell_type": "markdown",
   "id": "9666ec7dec297bb3",
   "metadata": {},
   "source": [
    "## NER\n",
    "Use LAC to do NER"
   ]
  },
  {
   "cell_type": "code",
   "execution_count": 16,
   "id": "3a12ff046a894a08",
   "metadata": {
    "ExecuteTime": {
     "end_time": "2023-12-05T09:18:09.644823400Z",
     "start_time": "2023-12-05T08:59:22.355745800Z"
    }
   },
   "outputs": [
    {
     "data": {
      "application/vnd.jupyter.widget-view+json": {
       "model_id": "508c5c80af4f40448e94a89457f3be06",
       "version_major": 2,
       "version_minor": 0
      },
      "text/plain": [
       "  0%|          | 0/523 [00:00<?, ?it/s]"
      ]
     },
     "metadata": {},
     "output_type": "display_data"
    },
    {
     "name": "stderr",
     "output_type": "stream",
     "text": [
      "C:\\Users\\Bella\\AppData\\Local\\Temp\\ipykernel_22384\\968685346.py:11: SettingWithCopyWarning: \n",
      "A value is trying to be set on a copy of a slice from a DataFrame.\n",
      "Try using .loc[row_indexer,col_indexer] = value instead\n",
      "\n",
      "See the caveats in the documentation: https://pandas.pydata.org/pandas-docs/stable/user_guide/indexing.html#returning-a-view-versus-a-copy\n",
      "  news_to_match['NER'] = pd.Series(results, index=news_to_match.index)\n"
     ]
    }
   ],
   "source": [
    "# Initialize LAC, make sure GPU is enabled\n",
    "from LAC import LAC\n",
    "lac = LAC(mode='lac', use_cuda=True)\n",
    "batch_size = 1000\n",
    "texts = news_to_match['Title&Content']\n",
    "results = []\n",
    "for i in tqdm(range(0, len(texts), batch_size)):\n",
    "    batch = texts[i:i + batch_size]\n",
    "    processed_batch = lac.run(batch.tolist())\n",
    "    results.extend(processed_batch)\n",
    "news_to_match['NER'] = pd.Series(results, index=news_to_match.index)"
   ]
  },
  {
   "cell_type": "code",
   "execution_count": 17,
   "id": "8dbc9bbb148526cd",
   "metadata": {
    "ExecuteTime": {
     "end_time": "2023-12-05T09:19:42.625442600Z",
     "start_time": "2023-12-05T09:18:09.656824700Z"
    }
   },
   "outputs": [],
   "source": [
    "news_to_match.to_csv(file_root + 'news_to_match.csv', encoding='utf-8-sig', index=False)"
   ]
  },
  {
   "cell_type": "code",
   "execution_count": 18,
   "id": "2fc7a4dd8fe60c15",
   "metadata": {
    "ExecuteTime": {
     "end_time": "2023-12-05T09:19:48.959399700Z",
     "start_time": "2023-12-05T09:19:42.654062100Z"
    }
   },
   "outputs": [
    {
     "name": "stderr",
     "output_type": "stream",
     "text": [
      "C:\\Users\\Bella\\AppData\\Local\\Temp\\ipykernel_22384\\2367639824.py:8: SettingWithCopyWarning: \n",
      "A value is trying to be set on a copy of a slice from a DataFrame.\n",
      "Try using .loc[row_indexer,col_indexer] = value instead\n",
      "\n",
      "See the caveats in the documentation: https://pandas.pydata.org/pandas-docs/stable/user_guide/indexing.html#returning-a-view-versus-a-copy\n",
      "  news_to_match['Orgs'] = news_to_match['NER'].apply(get_orgs)\n"
     ]
    }
   ],
   "source": [
    "def get_orgs(ner_result):\n",
    "    orgs = []\n",
    "    for i, type_w in enumerate(ner_result[1]):\n",
    "        if type_w == 'ORG':\n",
    "            orgs.append(ner_result[0][i])\n",
    "    return orgs\n",
    "\n",
    "news_to_match['Orgs'] = news_to_match['NER'].apply(get_orgs)"
   ]
  },
  {
   "cell_type": "code",
   "execution_count": 10,
   "id": "16cade2c79fb6fcd",
   "metadata": {
    "ExecuteTime": {
     "end_time": "2023-12-05T13:24:11.325723500Z",
     "start_time": "2023-12-05T13:24:11.304211100Z"
    }
   },
   "outputs": [],
   "source": [
    "# Make some cleaning for the companies\n",
    "# Enlarge the search space\n",
    "companies_df['name_bk'] = companies_df['name']\n",
    "special_mappings = {\n",
    "    '*ST生物':'南华生物',\n",
    "    'ST生态':'洪湖生态',\n",
    "    '*ST节能':'神雾节能',\n",
    "    '*ST环保':'天创信息',\n",
    "    'ST海洋':'厦门海洋',\n",
    "    '*ST集成':'成飞集成',\n",
    "    '*ST数码':'航煤数码'\n",
    "}\n",
    "\n",
    "companies_df['name'] = companies_df['name'].map(special_mappings).fillna(companies_df['name'])"
   ]
  },
  {
   "cell_type": "code",
   "execution_count": 11,
   "id": "6b61775f3fbe6110",
   "metadata": {
    "ExecuteTime": {
     "end_time": "2023-12-05T13:24:24.304562300Z",
     "start_time": "2023-12-05T13:24:24.273525300Z"
    }
   },
   "outputs": [
    {
     "data": {
      "text/plain": "     name       code          fullname name_bk\n897    南华  000660.SZ    广州大通资源开发股份有限公司   *ST南华\n904   国重装     601399    国机重型装备集团股份有限公司   ST国重装\n967   石化A  000013.SZ    深圳石化工业集团股份有限公司  *ST石化A\n970    中侨  000047.SZ     深圳市中侨发展股份有限公司    ST中侨\n1012   北讯  002359.SZ        北讯集团股份有限公司   *ST北讯\n...   ...        ...               ...     ...\n4416   山水  600234.SH  山西广和山水文化传播股份有限公司   *ST山水\n4419   狮头  600539.SH      太原狮头水泥股份有限公司    ST狮头\n4432   坊展  600149.SH        廊坊发展股份有限公司    ST坊展\n4484   津滨  000897.SZ      天津津滨发展股份有限公司   *ST津滨\n4567   锐电  601558.SH  华锐风电科技(集团)股份有限公司    ST锐电\n\n[189 rows x 4 columns]",
      "text/html": "<div>\n<style scoped>\n    .dataframe tbody tr th:only-of-type {\n        vertical-align: middle;\n    }\n\n    .dataframe tbody tr th {\n        vertical-align: top;\n    }\n\n    .dataframe thead th {\n        text-align: right;\n    }\n</style>\n<table border=\"1\" class=\"dataframe\">\n  <thead>\n    <tr style=\"text-align: right;\">\n      <th></th>\n      <th>name</th>\n      <th>code</th>\n      <th>fullname</th>\n      <th>name_bk</th>\n    </tr>\n  </thead>\n  <tbody>\n    <tr>\n      <th>897</th>\n      <td>南华</td>\n      <td>000660.SZ</td>\n      <td>广州大通资源开发股份有限公司</td>\n      <td>*ST南华</td>\n    </tr>\n    <tr>\n      <th>904</th>\n      <td>国重装</td>\n      <td>601399</td>\n      <td>国机重型装备集团股份有限公司</td>\n      <td>ST国重装</td>\n    </tr>\n    <tr>\n      <th>967</th>\n      <td>石化A</td>\n      <td>000013.SZ</td>\n      <td>深圳石化工业集团股份有限公司</td>\n      <td>*ST石化A</td>\n    </tr>\n    <tr>\n      <th>970</th>\n      <td>中侨</td>\n      <td>000047.SZ</td>\n      <td>深圳市中侨发展股份有限公司</td>\n      <td>ST中侨</td>\n    </tr>\n    <tr>\n      <th>1012</th>\n      <td>北讯</td>\n      <td>002359.SZ</td>\n      <td>北讯集团股份有限公司</td>\n      <td>*ST北讯</td>\n    </tr>\n    <tr>\n      <th>...</th>\n      <td>...</td>\n      <td>...</td>\n      <td>...</td>\n      <td>...</td>\n    </tr>\n    <tr>\n      <th>4416</th>\n      <td>山水</td>\n      <td>600234.SH</td>\n      <td>山西广和山水文化传播股份有限公司</td>\n      <td>*ST山水</td>\n    </tr>\n    <tr>\n      <th>4419</th>\n      <td>狮头</td>\n      <td>600539.SH</td>\n      <td>太原狮头水泥股份有限公司</td>\n      <td>ST狮头</td>\n    </tr>\n    <tr>\n      <th>4432</th>\n      <td>坊展</td>\n      <td>600149.SH</td>\n      <td>廊坊发展股份有限公司</td>\n      <td>ST坊展</td>\n    </tr>\n    <tr>\n      <th>4484</th>\n      <td>津滨</td>\n      <td>000897.SZ</td>\n      <td>天津津滨发展股份有限公司</td>\n      <td>*ST津滨</td>\n    </tr>\n    <tr>\n      <th>4567</th>\n      <td>锐电</td>\n      <td>601558.SH</td>\n      <td>华锐风电科技(集团)股份有限公司</td>\n      <td>ST锐电</td>\n    </tr>\n  </tbody>\n</table>\n<p>189 rows × 4 columns</p>\n</div>"
     },
     "execution_count": 11,
     "metadata": {},
     "output_type": "execute_result"
    }
   ],
   "source": [
    "terms = ['S*ST', '*ST', 'ST', 'B股']\n",
    "def remove_special_terms(name, special_terms=terms):\n",
    "    for term in special_terms:\n",
    "        name = name.replace(term, '')\n",
    "    return name.strip()\n",
    "\n",
    "# 使用DataFrame的apply和lambda函数来检查 name_bk 中是否含有特殊字段\n",
    "contains_special_terms = companies_df['name_bk'].apply(\n",
    "    lambda x: any(term in x for term in terms)\n",
    ")\n",
    "\n",
    "# 应用这个函数到 'name' 列\n",
    "companies_df['name'] = companies_df['name'].apply(remove_special_terms)\n",
    "# 筛选出含有特殊字段的行\n",
    "companies_with_special_terms = companies_df[contains_special_terms]\n",
    "companies_with_special_terms"
   ]
  },
  {
   "cell_type": "code",
   "execution_count": 52,
   "id": "3ad1fff85f3365cf",
   "metadata": {
    "ExecuteTime": {
     "end_time": "2023-12-05T11:43:28.660482300Z",
     "start_time": "2023-12-05T11:43:28.302301100Z"
    }
   },
   "outputs": [],
   "source": [
    "from thefuzz import fuzz\n",
    "companies_set = set(companies_df['name'])\n",
    "def match_company(orgs, companies = companies_set, threshold=80):\n",
    "    matched = set()\n",
    "    for org in orgs:\n",
    "        for company in companies:\n",
    "            similarity = fuzz.ratio(org, company)\n",
    "            if similarity >= threshold:\n",
    "                matched.add(company)\n",
    "    return list(matched) if matched else None"
   ]
  },
  {
   "cell_type": "code",
   "execution_count": null,
   "id": "fe465faaba6747b2",
   "metadata": {
    "ExecuteTime": {
     "end_time": "2023-12-05T11:48:21.863129800Z",
     "start_time": "2023-12-05T11:43:32.703849200Z"
    }
   },
   "outputs": [
    {
     "data": {
      "application/vnd.jupyter.widget-view+json": {
       "model_id": "b4e7707fc08e49828ca1fa0d7b8514d7",
       "version_major": 2,
       "version_minor": 0
      },
      "text/plain": [
       "Pandas Apply:   0%|          | 0/522123 [00:00<?, ?it/s]"
      ]
     },
     "metadata": {},
     "output_type": "display_data"
    }
   ],
   "source": [
    "news_to_match['Company'] = news_to_match['Orgs'].swifter.apply(match_company)"
   ]
  },
  {
   "cell_type": "code",
   "execution_count": null,
   "id": "97137f4770bb5963",
   "metadata": {
    "ExecuteTime": {
     "start_time": "2023-12-05T11:48:21.860135500Z"
    }
   },
   "outputs": [],
   "source": [
    "news_to_match[['NewsID', 'NewsContent', 'Company']].to_csv(file_root + 'news_to_match_Company.csv', encoding='utf-8-sig', index=False)"
   ]
  },
  {
   "cell_type": "code",
   "execution_count": 5,
   "id": "6cc47830e4bc41fb",
   "metadata": {
    "ExecuteTime": {
     "end_time": "2023-12-05T13:11:18.065080300Z",
     "start_time": "2023-12-05T13:11:12.876594400Z"
    }
   },
   "outputs": [
    {
     "data": {
      "text/plain": "   NewsID                       Title  \\\n0       1          建设银行原董事长张恩照一审被判15年   \n1       2                农行信用卡中心搬到上海滩   \n2       3           外运发展：价值型蓝筹股补涨要求强烈   \n3       4           胜利股份：稳步走强形成标准上升通道   \n4       5  [港股快讯]恒指收市报18960点 成交467亿港元   \n\n                                         NewsContent NewsSource  \\\n0  本报记者 田雨 李京华    中国建设银行股份有限公司原董事长张恩照受贿案３日一审宣判，北京...      中国证券报   \n1  中国农业银行信用卡中心由北京搬到上海了！  农行行长杨明生日前在信用卡中心揭牌仪式上表示，此...       人民日报   \n2  在新基金快速发行以及申购资金回流的情况下，市场总体上呈现资金流动性过剩格局，考虑到现阶段权重...      杭州新希望   \n3  胜利股份（000407）公司子公司填海造地2800亩，以青岛的地价估算，静态价值在10亿元左...       源达投资   \n4  全景网11月30日讯 外围股市造好，带动港股今早造好，恒指高开后反覆上升，最高升252点，曾...        全景网   \n\n                                       Title&Content           Company  \n0  建设银行原董事长张恩照一审被判15年 本报记者 田雨 李京华    中国建设银行股份有限公司...          ['建设银行']  \n1  农行信用卡中心搬到上海滩 中国农业银行信用卡中心由北京搬到上海了！  农行行长杨明生日前在信...          ['农业银行']  \n2  外运发展：价值型蓝筹股补涨要求强烈 在新基金快速发行以及申购资金回流的情况下，市场总体上呈现...  ['中国国航', '外运发展']  \n3  胜利股份：稳步走强形成标准上升通道 胜利股份（000407）公司子公司填海造地2800亩，以...          ['胜利股份']  \n4  [港股快讯]恒指收市报18960点 成交467亿港元 全景网11月30日讯 外围股市造好，带...               NaN  ",
      "text/html": "<div>\n<style scoped>\n    .dataframe tbody tr th:only-of-type {\n        vertical-align: middle;\n    }\n\n    .dataframe tbody tr th {\n        vertical-align: top;\n    }\n\n    .dataframe thead th {\n        text-align: right;\n    }\n</style>\n<table border=\"1\" class=\"dataframe\">\n  <thead>\n    <tr style=\"text-align: right;\">\n      <th></th>\n      <th>NewsID</th>\n      <th>Title</th>\n      <th>NewsContent</th>\n      <th>NewsSource</th>\n      <th>Title&amp;Content</th>\n      <th>Company</th>\n    </tr>\n  </thead>\n  <tbody>\n    <tr>\n      <th>0</th>\n      <td>1</td>\n      <td>建设银行原董事长张恩照一审被判15年</td>\n      <td>本报记者 田雨 李京华    中国建设银行股份有限公司原董事长张恩照受贿案３日一审宣判，北京...</td>\n      <td>中国证券报</td>\n      <td>建设银行原董事长张恩照一审被判15年 本报记者 田雨 李京华    中国建设银行股份有限公司...</td>\n      <td>['建设银行']</td>\n    </tr>\n    <tr>\n      <th>1</th>\n      <td>2</td>\n      <td>农行信用卡中心搬到上海滩</td>\n      <td>中国农业银行信用卡中心由北京搬到上海了！  农行行长杨明生日前在信用卡中心揭牌仪式上表示，此...</td>\n      <td>人民日报</td>\n      <td>农行信用卡中心搬到上海滩 中国农业银行信用卡中心由北京搬到上海了！  农行行长杨明生日前在信...</td>\n      <td>['农业银行']</td>\n    </tr>\n    <tr>\n      <th>2</th>\n      <td>3</td>\n      <td>外运发展：价值型蓝筹股补涨要求强烈</td>\n      <td>在新基金快速发行以及申购资金回流的情况下，市场总体上呈现资金流动性过剩格局，考虑到现阶段权重...</td>\n      <td>杭州新希望</td>\n      <td>外运发展：价值型蓝筹股补涨要求强烈 在新基金快速发行以及申购资金回流的情况下，市场总体上呈现...</td>\n      <td>['中国国航', '外运发展']</td>\n    </tr>\n    <tr>\n      <th>3</th>\n      <td>4</td>\n      <td>胜利股份：稳步走强形成标准上升通道</td>\n      <td>胜利股份（000407）公司子公司填海造地2800亩，以青岛的地价估算，静态价值在10亿元左...</td>\n      <td>源达投资</td>\n      <td>胜利股份：稳步走强形成标准上升通道 胜利股份（000407）公司子公司填海造地2800亩，以...</td>\n      <td>['胜利股份']</td>\n    </tr>\n    <tr>\n      <th>4</th>\n      <td>5</td>\n      <td>[港股快讯]恒指收市报18960点 成交467亿港元</td>\n      <td>全景网11月30日讯 外围股市造好，带动港股今早造好，恒指高开后反覆上升，最高升252点，曾...</td>\n      <td>全景网</td>\n      <td>[港股快讯]恒指收市报18960点 成交467亿港元 全景网11月30日讯 外围股市造好，带...</td>\n      <td>NaN</td>\n    </tr>\n  </tbody>\n</table>\n</div>"
     },
     "execution_count": 5,
     "metadata": {},
     "output_type": "execute_result"
    }
   ],
   "source": [
    "# merge the news_to_match and news_filtered\n",
    "# to match the company found in news_to_match\n",
    "news_to_match_renamed = news_to_match.rename(columns={'Company': 'MatchedCompany'})\n",
    "news_filtered = news_filtered.merge(news_to_match_renamed[['NewsID', 'MatchedCompany']], on='NewsID', how='left')\n",
    "news_filtered['Company'] = news_filtered.apply(\n",
    "    lambda row: row['MatchedCompany'] if pd.isna(row['Company']) else row['Company'],\n",
    "    axis=1\n",
    ")\n",
    "news_filtered.drop(columns=['MatchedCompany'], inplace=True)\n",
    "news_filtered.head(5)"
   ]
  },
  {
   "cell_type": "code",
   "execution_count": 9,
   "outputs": [
    {
     "data": {
      "text/plain": "         NewsID                                    Title  \\\n0             1                       建设银行原董事长张恩照一审被判15年   \n1             2                             农行信用卡中心搬到上海滩   \n2             3                        外运发展：价值型蓝筹股补涨要求强烈   \n3             4                        胜利股份：稳步走强形成标准上升通道   \n7             8                      南风化工：钾肥三雄之一 被\"中化\"相中   \n...         ...                                      ...   \n995452  1037031    亿华通：公司电解槽相关产品目前还处于产品的研发及测试阶段 尚未实现批量销售   \n995453  1037032                             依米康：接受中泰证券调研   \n995454  1037033         天风证券给予中核科技买入评级 核电行业景气上行 公司有望乘风而起   \n995455  1037034  海特生物：公司在抗癌药CPT获批后 会考虑适时开展CPT在海外的临床并谋求上市   \n995456  1037035                      恩捷股份：股东合益投资部分股份补充质押   \n\n                                              NewsContent NewsSource  \\\n0       本报记者 田雨 李京华    中国建设银行股份有限公司原董事长张恩照受贿案３日一审宣判，北京...      中国证券报   \n1       中国农业银行信用卡中心由北京搬到上海了！  农行行长杨明生日前在信用卡中心揭牌仪式上表示，此...       人民日报   \n2       在新基金快速发行以及申购资金回流的情况下，市场总体上呈现资金流动性过剩格局，考虑到现阶段权重...      杭州新希望   \n3       胜利股份（000407）公司子公司填海造地2800亩，以青岛的地价估算，静态价值在10亿元左...       源达投资   \n7       由于全球最大的俄罗斯Uralkaly钾矿被淹，产量大减，同时满洲里口岸铁路在修复线，导致中俄...       银河证券   \n...                                                   ...        ...   \n995452  每经AI快讯，有投资者在投资者互动平台提问：请问公司目前有没有电解槽产能，规划情况能否详细介...     每日经济新闻   \n995453  依米康（SZ 300249，收盘价：10.38元）发布公告称，2023年10月12日，依米康...     每日经济新闻   \n995454  天风证券10月13日发布研报称，给予中核科技（000777.SZ，最新价：13.03元）买入...     每日经济新闻   \n995455  有投资者提问：抗癌药CPT获批后，公司是否应该按照股权协议继续收购沙东股权，适应症为MM的C...       界面新闻   \n995456  10月13日午间，根据恩捷股份发布的公告，持有公司股份5%以上的股东玉溪合益投资有限公司（下...       证券日报   \n\n                                            Title&Content           Company  \n0       建设银行原董事长张恩照一审被判15年 本报记者 田雨 李京华    中国建设银行股份有限公司...          ['建设银行']  \n1       农行信用卡中心搬到上海滩 中国农业银行信用卡中心由北京搬到上海了！  农行行长杨明生日前在信...          ['农业银行']  \n2       外运发展：价值型蓝筹股补涨要求强烈 在新基金快速发行以及申购资金回流的情况下，市场总体上呈现...  ['中国国航', '外运发展']  \n3       胜利股份：稳步走强形成标准上升通道 胜利股份（000407）公司子公司填海造地2800亩，以...          ['胜利股份']  \n7       南风化工：钾肥三雄之一 被\"中化\"相中 由于全球最大的俄罗斯Uralkaly钾矿被淹，产量大...          ['冠农股份']  \n...                                                   ...               ...  \n995452  亿华通：公司电解槽相关产品目前还处于产品的研发及测试阶段 尚未实现批量销售 每经AI快讯，有...           ['亿华通']  \n995453  依米康：接受中泰证券调研 依米康（SZ 300249，收盘价：10.38元）发布公告称，20...   ['中泰证券', '依米康']  \n995454  天风证券给予中核科技买入评级 核电行业景气上行 公司有望乘风而起 天风证券10月13日发布研...  ['天风证券', '中核科技']  \n995455  海特生物：公司在抗癌药CPT获批后 会考虑适时开展CPT在海外的临床并谋求上市 有投资者提问...          ['海特生物']  \n995456  恩捷股份：股东合益投资部分股份补充质押 10月13日午间，根据恩捷股份发布的公告，持有公司股...          ['恩捷股份']  \n\n[496053 rows x 6 columns]",
      "text/html": "<div>\n<style scoped>\n    .dataframe tbody tr th:only-of-type {\n        vertical-align: middle;\n    }\n\n    .dataframe tbody tr th {\n        vertical-align: top;\n    }\n\n    .dataframe thead th {\n        text-align: right;\n    }\n</style>\n<table border=\"1\" class=\"dataframe\">\n  <thead>\n    <tr style=\"text-align: right;\">\n      <th></th>\n      <th>NewsID</th>\n      <th>Title</th>\n      <th>NewsContent</th>\n      <th>NewsSource</th>\n      <th>Title&amp;Content</th>\n      <th>Company</th>\n    </tr>\n  </thead>\n  <tbody>\n    <tr>\n      <th>0</th>\n      <td>1</td>\n      <td>建设银行原董事长张恩照一审被判15年</td>\n      <td>本报记者 田雨 李京华    中国建设银行股份有限公司原董事长张恩照受贿案３日一审宣判，北京...</td>\n      <td>中国证券报</td>\n      <td>建设银行原董事长张恩照一审被判15年 本报记者 田雨 李京华    中国建设银行股份有限公司...</td>\n      <td>['建设银行']</td>\n    </tr>\n    <tr>\n      <th>1</th>\n      <td>2</td>\n      <td>农行信用卡中心搬到上海滩</td>\n      <td>中国农业银行信用卡中心由北京搬到上海了！  农行行长杨明生日前在信用卡中心揭牌仪式上表示，此...</td>\n      <td>人民日报</td>\n      <td>农行信用卡中心搬到上海滩 中国农业银行信用卡中心由北京搬到上海了！  农行行长杨明生日前在信...</td>\n      <td>['农业银行']</td>\n    </tr>\n    <tr>\n      <th>2</th>\n      <td>3</td>\n      <td>外运发展：价值型蓝筹股补涨要求强烈</td>\n      <td>在新基金快速发行以及申购资金回流的情况下，市场总体上呈现资金流动性过剩格局，考虑到现阶段权重...</td>\n      <td>杭州新希望</td>\n      <td>外运发展：价值型蓝筹股补涨要求强烈 在新基金快速发行以及申购资金回流的情况下，市场总体上呈现...</td>\n      <td>['中国国航', '外运发展']</td>\n    </tr>\n    <tr>\n      <th>3</th>\n      <td>4</td>\n      <td>胜利股份：稳步走强形成标准上升通道</td>\n      <td>胜利股份（000407）公司子公司填海造地2800亩，以青岛的地价估算，静态价值在10亿元左...</td>\n      <td>源达投资</td>\n      <td>胜利股份：稳步走强形成标准上升通道 胜利股份（000407）公司子公司填海造地2800亩，以...</td>\n      <td>['胜利股份']</td>\n    </tr>\n    <tr>\n      <th>7</th>\n      <td>8</td>\n      <td>南风化工：钾肥三雄之一 被\"中化\"相中</td>\n      <td>由于全球最大的俄罗斯Uralkaly钾矿被淹，产量大减，同时满洲里口岸铁路在修复线，导致中俄...</td>\n      <td>银河证券</td>\n      <td>南风化工：钾肥三雄之一 被\"中化\"相中 由于全球最大的俄罗斯Uralkaly钾矿被淹，产量大...</td>\n      <td>['冠农股份']</td>\n    </tr>\n    <tr>\n      <th>...</th>\n      <td>...</td>\n      <td>...</td>\n      <td>...</td>\n      <td>...</td>\n      <td>...</td>\n      <td>...</td>\n    </tr>\n    <tr>\n      <th>995452</th>\n      <td>1037031</td>\n      <td>亿华通：公司电解槽相关产品目前还处于产品的研发及测试阶段 尚未实现批量销售</td>\n      <td>每经AI快讯，有投资者在投资者互动平台提问：请问公司目前有没有电解槽产能，规划情况能否详细介...</td>\n      <td>每日经济新闻</td>\n      <td>亿华通：公司电解槽相关产品目前还处于产品的研发及测试阶段 尚未实现批量销售 每经AI快讯，有...</td>\n      <td>['亿华通']</td>\n    </tr>\n    <tr>\n      <th>995453</th>\n      <td>1037032</td>\n      <td>依米康：接受中泰证券调研</td>\n      <td>依米康（SZ 300249，收盘价：10.38元）发布公告称，2023年10月12日，依米康...</td>\n      <td>每日经济新闻</td>\n      <td>依米康：接受中泰证券调研 依米康（SZ 300249，收盘价：10.38元）发布公告称，20...</td>\n      <td>['中泰证券', '依米康']</td>\n    </tr>\n    <tr>\n      <th>995454</th>\n      <td>1037033</td>\n      <td>天风证券给予中核科技买入评级 核电行业景气上行 公司有望乘风而起</td>\n      <td>天风证券10月13日发布研报称，给予中核科技（000777.SZ，最新价：13.03元）买入...</td>\n      <td>每日经济新闻</td>\n      <td>天风证券给予中核科技买入评级 核电行业景气上行 公司有望乘风而起 天风证券10月13日发布研...</td>\n      <td>['天风证券', '中核科技']</td>\n    </tr>\n    <tr>\n      <th>995455</th>\n      <td>1037034</td>\n      <td>海特生物：公司在抗癌药CPT获批后 会考虑适时开展CPT在海外的临床并谋求上市</td>\n      <td>有投资者提问：抗癌药CPT获批后，公司是否应该按照股权协议继续收购沙东股权，适应症为MM的C...</td>\n      <td>界面新闻</td>\n      <td>海特生物：公司在抗癌药CPT获批后 会考虑适时开展CPT在海外的临床并谋求上市 有投资者提问...</td>\n      <td>['海特生物']</td>\n    </tr>\n    <tr>\n      <th>995456</th>\n      <td>1037035</td>\n      <td>恩捷股份：股东合益投资部分股份补充质押</td>\n      <td>10月13日午间，根据恩捷股份发布的公告，持有公司股份5%以上的股东玉溪合益投资有限公司（下...</td>\n      <td>证券日报</td>\n      <td>恩捷股份：股东合益投资部分股份补充质押 10月13日午间，根据恩捷股份发布的公告，持有公司股...</td>\n      <td>['恩捷股份']</td>\n    </tr>\n  </tbody>\n</table>\n<p>496053 rows × 6 columns</p>\n</div>"
     },
     "execution_count": 9,
     "metadata": {},
     "output_type": "execute_result"
    }
   ],
   "source": [
    "news_filtered"
   ],
   "metadata": {
    "collapsed": false,
    "ExecuteTime": {
     "end_time": "2023-12-05T13:22:43.346733300Z",
     "start_time": "2023-12-05T13:22:43.316207400Z"
    }
   },
   "id": "fa392a4daf91f9a7"
  },
  {
   "cell_type": "code",
   "execution_count": 8,
   "id": "29eafa8ed0d9055b",
   "metadata": {
    "ExecuteTime": {
     "end_time": "2023-12-05T13:19:04.680529800Z",
     "start_time": "2023-12-05T13:19:04.486900300Z"
    }
   },
   "outputs": [
    {
     "name": "stdout",
     "output_type": "stream",
     "text": [
      "The number of news that cannot be matched is reduced from 995457 to 496053, a total reduction of 540982\n"
     ]
    }
   ],
   "source": [
    "cnt_before = len(news_filtered)\n",
    "news_filtered.dropna(subset=['Company'], inplace=True)\n",
    "cnt_after = len(news_filtered)\n",
    "print('The number of news that cannot be matched is reduced from {} to {}, a total reduction of {}'.format(cnt_before, cnt_after, cnt_all - cnt_after))"
   ]
  },
  {
   "cell_type": "code",
   "execution_count": 12,
   "id": "debf7e374a3a1b3d",
   "metadata": {
    "ExecuteTime": {
     "end_time": "2023-12-05T13:24:30.815792700Z",
     "start_time": "2023-12-05T13:24:30.628245400Z"
    }
   },
   "outputs": [
    {
     "data": {
      "text/plain": "0it [00:00, ?it/s]",
      "application/vnd.jupyter.widget-view+json": {
       "version_major": 2,
       "version_minor": 0,
       "model_id": "6e9e7fa998cb49d4b24f4f2b37933450"
      }
     },
     "metadata": {},
     "output_type": "display_data"
    }
   ],
   "source": [
    "back_mappings = {}\n",
    "for _, row in tqdm(companies_df.iterrows()):\n",
    "    back_mappings[row['name']] = row['name_bk']\n",
    "news_filtered['Company'] = news_filtered['Company'].map(back_mappings).fillna(news_filtered['Company'])"
   ]
  },
  {
   "cell_type": "code",
   "execution_count": null,
   "outputs": [],
   "source": [
    "def list_to_string(lst):\n",
    "    # turn the list of companies into a string\n",
    "    return ','.join(lst)\n",
    "news_filtered = news_filtered['Company'].apply(list_to_string)"
   ],
   "metadata": {
    "collapsed": false
   },
   "id": "1f0c76c564ff5c14"
  },
  {
   "cell_type": "code",
   "execution_count": 13,
   "id": "16658c24ed58a4a8",
   "metadata": {
    "ExecuteTime": {
     "end_time": "2023-12-05T13:24:43.500656400Z",
     "start_time": "2023-12-05T13:24:34.696109100Z"
    }
   },
   "outputs": [],
   "source": [
    "news_filtered.to_csv(file_root + 'News_matched.csv', encoding='utf-8-sig', index=True)"
   ]
  }
 ],
 "metadata": {
  "kernelspec": {
   "display_name": "Python 3 (ipykernel)",
   "language": "python",
   "name": "python3"
  },
  "language_info": {
   "codemirror_mode": {
    "name": "ipython",
    "version": 3
   },
   "file_extension": ".py",
   "mimetype": "text/x-python",
   "name": "python",
   "nbconvert_exporter": "python",
   "pygments_lexer": "ipython3",
   "version": "3.9.18"
  }
 },
 "nbformat": 4,
 "nbformat_minor": 5
}
