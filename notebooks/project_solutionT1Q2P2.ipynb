{
 "cells": [
  {
   "cell_type": "code",
   "execution_count": 1,
   "id": "initial_id",
   "metadata": {
    "collapsed": true,
    "ExecuteTime": {
     "end_time": "2023-12-05T13:52:21.443541800Z",
     "start_time": "2023-12-05T13:52:20.888466900Z"
    }
   },
   "outputs": [],
   "source": [
    "import pandas as pd\n"
   ]
  },
  {
   "cell_type": "code",
   "execution_count": 2,
   "outputs": [],
   "source": [
    "file_root = 'D:/Career/HKUST(GZ)/5002/dsaa5002_project/'\n",
    "news_matched = pd.read_csv(file_root + 'news_matched.csv', encoding='utf-8-sig')\n",
    "sentiment_output = pd.read_csv(file_root + 'sentiment_output.csv', encoding='utf-8-sig')"
   ],
   "metadata": {
    "collapsed": false,
    "ExecuteTime": {
     "end_time": "2023-12-05T13:52:32.907832100Z",
     "start_time": "2023-12-05T13:52:21.446542800Z"
    }
   },
   "id": "6e0da0f2cb0ba518"
  },
  {
   "cell_type": "code",
   "execution_count": 3,
   "outputs": [
    {
     "data": {
      "text/plain": "        Unnamed: 0   NewsID                                    Title  \\\n0                0        1                       建设银行原董事长张恩照一审被判15年   \n1                1        2                             农行信用卡中心搬到上海滩   \n2                2        3                        外运发展：价值型蓝筹股补涨要求强烈   \n3                3        4                        胜利股份：稳步走强形成标准上升通道   \n4                7        8                      南风化工：钾肥三雄之一 被\"中化\"相中   \n...            ...      ...                                      ...   \n496048      995452  1037031    亿华通：公司电解槽相关产品目前还处于产品的研发及测试阶段 尚未实现批量销售   \n496049      995453  1037032                             依米康：接受中泰证券调研   \n496050      995454  1037033         天风证券给予中核科技买入评级 核电行业景气上行 公司有望乘风而起   \n496051      995455  1037034  海特生物：公司在抗癌药CPT获批后 会考虑适时开展CPT在海外的临床并谋求上市   \n496052      995456  1037035                      恩捷股份：股东合益投资部分股份补充质押   \n\n                                              NewsContent NewsSource  \\\n0       本报记者 田雨 李京华    中国建设银行股份有限公司原董事长张恩照受贿案３日一审宣判，北京...      中国证券报   \n1       中国农业银行信用卡中心由北京搬到上海了！  农行行长杨明生日前在信用卡中心揭牌仪式上表示，此...       人民日报   \n2       在新基金快速发行以及申购资金回流的情况下，市场总体上呈现资金流动性过剩格局，考虑到现阶段权重...      杭州新希望   \n3       胜利股份（000407）公司子公司填海造地2800亩，以青岛的地价估算，静态价值在10亿元左...       源达投资   \n4       由于全球最大的俄罗斯Uralkaly钾矿被淹，产量大减，同时满洲里口岸铁路在修复线，导致中俄...       银河证券   \n...                                                   ...        ...   \n496048  每经AI快讯，有投资者在投资者互动平台提问：请问公司目前有没有电解槽产能，规划情况能否详细介...     每日经济新闻   \n496049  依米康（SZ 300249，收盘价：10.38元）发布公告称，2023年10月12日，依米康...     每日经济新闻   \n496050  天风证券10月13日发布研报称，给予中核科技（000777.SZ，最新价：13.03元）买入...     每日经济新闻   \n496051  有投资者提问：抗癌药CPT获批后，公司是否应该按照股权协议继续收购沙东股权，适应症为MM的C...       界面新闻   \n496052  10月13日午间，根据恩捷股份发布的公告，持有公司股份5%以上的股东玉溪合益投资有限公司（下...       证券日报   \n\n                                            Title&Content           Company  \n0       建设银行原董事长张恩照一审被判15年 本报记者 田雨 李京华    中国建设银行股份有限公司...          ['建设银行']  \n1       农行信用卡中心搬到上海滩 中国农业银行信用卡中心由北京搬到上海了！  农行行长杨明生日前在信...          ['农业银行']  \n2       外运发展：价值型蓝筹股补涨要求强烈 在新基金快速发行以及申购资金回流的情况下，市场总体上呈现...  ['中国国航', '外运发展']  \n3       胜利股份：稳步走强形成标准上升通道 胜利股份（000407）公司子公司填海造地2800亩，以...          ['胜利股份']  \n4       南风化工：钾肥三雄之一 被\"中化\"相中 由于全球最大的俄罗斯Uralkaly钾矿被淹，产量大...          ['冠农股份']  \n...                                                   ...               ...  \n496048  亿华通：公司电解槽相关产品目前还处于产品的研发及测试阶段 尚未实现批量销售 每经AI快讯，有...           ['亿华通']  \n496049  依米康：接受中泰证券调研 依米康（SZ 300249，收盘价：10.38元）发布公告称，20...   ['中泰证券', '依米康']  \n496050  天风证券给予中核科技买入评级 核电行业景气上行 公司有望乘风而起 天风证券10月13日发布研...  ['天风证券', '中核科技']  \n496051  海特生物：公司在抗癌药CPT获批后 会考虑适时开展CPT在海外的临床并谋求上市 有投资者提问...          ['海特生物']  \n496052  恩捷股份：股东合益投资部分股份补充质押 10月13日午间，根据恩捷股份发布的公告，持有公司股...          ['恩捷股份']  \n\n[496053 rows x 7 columns]",
      "text/html": "<div>\n<style scoped>\n    .dataframe tbody tr th:only-of-type {\n        vertical-align: middle;\n    }\n\n    .dataframe tbody tr th {\n        vertical-align: top;\n    }\n\n    .dataframe thead th {\n        text-align: right;\n    }\n</style>\n<table border=\"1\" class=\"dataframe\">\n  <thead>\n    <tr style=\"text-align: right;\">\n      <th></th>\n      <th>Unnamed: 0</th>\n      <th>NewsID</th>\n      <th>Title</th>\n      <th>NewsContent</th>\n      <th>NewsSource</th>\n      <th>Title&amp;Content</th>\n      <th>Company</th>\n    </tr>\n  </thead>\n  <tbody>\n    <tr>\n      <th>0</th>\n      <td>0</td>\n      <td>1</td>\n      <td>建设银行原董事长张恩照一审被判15年</td>\n      <td>本报记者 田雨 李京华    中国建设银行股份有限公司原董事长张恩照受贿案３日一审宣判，北京...</td>\n      <td>中国证券报</td>\n      <td>建设银行原董事长张恩照一审被判15年 本报记者 田雨 李京华    中国建设银行股份有限公司...</td>\n      <td>['建设银行']</td>\n    </tr>\n    <tr>\n      <th>1</th>\n      <td>1</td>\n      <td>2</td>\n      <td>农行信用卡中心搬到上海滩</td>\n      <td>中国农业银行信用卡中心由北京搬到上海了！  农行行长杨明生日前在信用卡中心揭牌仪式上表示，此...</td>\n      <td>人民日报</td>\n      <td>农行信用卡中心搬到上海滩 中国农业银行信用卡中心由北京搬到上海了！  农行行长杨明生日前在信...</td>\n      <td>['农业银行']</td>\n    </tr>\n    <tr>\n      <th>2</th>\n      <td>2</td>\n      <td>3</td>\n      <td>外运发展：价值型蓝筹股补涨要求强烈</td>\n      <td>在新基金快速发行以及申购资金回流的情况下，市场总体上呈现资金流动性过剩格局，考虑到现阶段权重...</td>\n      <td>杭州新希望</td>\n      <td>外运发展：价值型蓝筹股补涨要求强烈 在新基金快速发行以及申购资金回流的情况下，市场总体上呈现...</td>\n      <td>['中国国航', '外运发展']</td>\n    </tr>\n    <tr>\n      <th>3</th>\n      <td>3</td>\n      <td>4</td>\n      <td>胜利股份：稳步走强形成标准上升通道</td>\n      <td>胜利股份（000407）公司子公司填海造地2800亩，以青岛的地价估算，静态价值在10亿元左...</td>\n      <td>源达投资</td>\n      <td>胜利股份：稳步走强形成标准上升通道 胜利股份（000407）公司子公司填海造地2800亩，以...</td>\n      <td>['胜利股份']</td>\n    </tr>\n    <tr>\n      <th>4</th>\n      <td>7</td>\n      <td>8</td>\n      <td>南风化工：钾肥三雄之一 被\"中化\"相中</td>\n      <td>由于全球最大的俄罗斯Uralkaly钾矿被淹，产量大减，同时满洲里口岸铁路在修复线，导致中俄...</td>\n      <td>银河证券</td>\n      <td>南风化工：钾肥三雄之一 被\"中化\"相中 由于全球最大的俄罗斯Uralkaly钾矿被淹，产量大...</td>\n      <td>['冠农股份']</td>\n    </tr>\n    <tr>\n      <th>...</th>\n      <td>...</td>\n      <td>...</td>\n      <td>...</td>\n      <td>...</td>\n      <td>...</td>\n      <td>...</td>\n      <td>...</td>\n    </tr>\n    <tr>\n      <th>496048</th>\n      <td>995452</td>\n      <td>1037031</td>\n      <td>亿华通：公司电解槽相关产品目前还处于产品的研发及测试阶段 尚未实现批量销售</td>\n      <td>每经AI快讯，有投资者在投资者互动平台提问：请问公司目前有没有电解槽产能，规划情况能否详细介...</td>\n      <td>每日经济新闻</td>\n      <td>亿华通：公司电解槽相关产品目前还处于产品的研发及测试阶段 尚未实现批量销售 每经AI快讯，有...</td>\n      <td>['亿华通']</td>\n    </tr>\n    <tr>\n      <th>496049</th>\n      <td>995453</td>\n      <td>1037032</td>\n      <td>依米康：接受中泰证券调研</td>\n      <td>依米康（SZ 300249，收盘价：10.38元）发布公告称，2023年10月12日，依米康...</td>\n      <td>每日经济新闻</td>\n      <td>依米康：接受中泰证券调研 依米康（SZ 300249，收盘价：10.38元）发布公告称，20...</td>\n      <td>['中泰证券', '依米康']</td>\n    </tr>\n    <tr>\n      <th>496050</th>\n      <td>995454</td>\n      <td>1037033</td>\n      <td>天风证券给予中核科技买入评级 核电行业景气上行 公司有望乘风而起</td>\n      <td>天风证券10月13日发布研报称，给予中核科技（000777.SZ，最新价：13.03元）买入...</td>\n      <td>每日经济新闻</td>\n      <td>天风证券给予中核科技买入评级 核电行业景气上行 公司有望乘风而起 天风证券10月13日发布研...</td>\n      <td>['天风证券', '中核科技']</td>\n    </tr>\n    <tr>\n      <th>496051</th>\n      <td>995455</td>\n      <td>1037034</td>\n      <td>海特生物：公司在抗癌药CPT获批后 会考虑适时开展CPT在海外的临床并谋求上市</td>\n      <td>有投资者提问：抗癌药CPT获批后，公司是否应该按照股权协议继续收购沙东股权，适应症为MM的C...</td>\n      <td>界面新闻</td>\n      <td>海特生物：公司在抗癌药CPT获批后 会考虑适时开展CPT在海外的临床并谋求上市 有投资者提问...</td>\n      <td>['海特生物']</td>\n    </tr>\n    <tr>\n      <th>496052</th>\n      <td>995456</td>\n      <td>1037035</td>\n      <td>恩捷股份：股东合益投资部分股份补充质押</td>\n      <td>10月13日午间，根据恩捷股份发布的公告，持有公司股份5%以上的股东玉溪合益投资有限公司（下...</td>\n      <td>证券日报</td>\n      <td>恩捷股份：股东合益投资部分股份补充质押 10月13日午间，根据恩捷股份发布的公告，持有公司股...</td>\n      <td>['恩捷股份']</td>\n    </tr>\n  </tbody>\n</table>\n<p>496053 rows × 7 columns</p>\n</div>"
     },
     "execution_count": 3,
     "metadata": {},
     "output_type": "execute_result"
    }
   ],
   "source": [
    "news_matched"
   ],
   "metadata": {
    "collapsed": false,
    "ExecuteTime": {
     "end_time": "2023-12-05T13:52:32.973364Z",
     "start_time": "2023-12-05T13:52:32.904814500Z"
    }
   },
   "id": "e4287a1a676ca50f"
  },
  {
   "cell_type": "code",
   "execution_count": 4,
   "outputs": [
    {
     "data": {
      "text/plain": "         NewsID  Sentiment\n0             1          0\n1             2          2\n2             3          2\n3             4          2\n4             5          1\n...         ...        ...\n995452  1037031          1\n995453  1037032          1\n995454  1037033          2\n995455  1037034          1\n995456  1037035          1\n\n[995457 rows x 2 columns]",
      "text/html": "<div>\n<style scoped>\n    .dataframe tbody tr th:only-of-type {\n        vertical-align: middle;\n    }\n\n    .dataframe tbody tr th {\n        vertical-align: top;\n    }\n\n    .dataframe thead th {\n        text-align: right;\n    }\n</style>\n<table border=\"1\" class=\"dataframe\">\n  <thead>\n    <tr style=\"text-align: right;\">\n      <th></th>\n      <th>NewsID</th>\n      <th>Sentiment</th>\n    </tr>\n  </thead>\n  <tbody>\n    <tr>\n      <th>0</th>\n      <td>1</td>\n      <td>0</td>\n    </tr>\n    <tr>\n      <th>1</th>\n      <td>2</td>\n      <td>2</td>\n    </tr>\n    <tr>\n      <th>2</th>\n      <td>3</td>\n      <td>2</td>\n    </tr>\n    <tr>\n      <th>3</th>\n      <td>4</td>\n      <td>2</td>\n    </tr>\n    <tr>\n      <th>4</th>\n      <td>5</td>\n      <td>1</td>\n    </tr>\n    <tr>\n      <th>...</th>\n      <td>...</td>\n      <td>...</td>\n    </tr>\n    <tr>\n      <th>995452</th>\n      <td>1037031</td>\n      <td>1</td>\n    </tr>\n    <tr>\n      <th>995453</th>\n      <td>1037032</td>\n      <td>1</td>\n    </tr>\n    <tr>\n      <th>995454</th>\n      <td>1037033</td>\n      <td>2</td>\n    </tr>\n    <tr>\n      <th>995455</th>\n      <td>1037034</td>\n      <td>1</td>\n    </tr>\n    <tr>\n      <th>995456</th>\n      <td>1037035</td>\n      <td>1</td>\n    </tr>\n  </tbody>\n</table>\n<p>995457 rows × 2 columns</p>\n</div>"
     },
     "execution_count": 4,
     "metadata": {},
     "output_type": "execute_result"
    }
   ],
   "source": [
    "sentiment_output"
   ],
   "metadata": {
    "collapsed": false,
    "ExecuteTime": {
     "end_time": "2023-12-05T13:52:32.996142400Z",
     "start_time": "2023-12-05T13:52:32.934829100Z"
    }
   },
   "id": "3354d7a3f6b49158"
  },
  {
   "cell_type": "code",
   "execution_count": 5,
   "outputs": [
    {
     "data": {
      "text/plain": "     Unnamed: 0  NewsID                  Title  \\\n0             0       1     建设银行原董事长张恩照一审被判15年   \n1             1       2           农行信用卡中心搬到上海滩   \n2             2       3      外运发展：价值型蓝筹股补涨要求强烈   \n3             3       4      胜利股份：稳步走强形成标准上升通道   \n4             7       8    南风化工：钾肥三雄之一 被\"中化\"相中   \n..          ...     ...                    ...   \n495         961     980            散户：态度谨慎不敢追涨   \n496         963     982  家开发银行转型暂未上路 商业性银行一年浮出   \n497         964     983            中行发行6个月期汇聚宝   \n498         966     985      汽车行业：轿车增长驱动汽车大国崛起   \n499         967     986          凯迪电力等公司巨额收购资产   \n\n                                           NewsContent NewsSource  \\\n0    本报记者 田雨 李京华    中国建设银行股份有限公司原董事长张恩照受贿案３日一审宣判，北京...      中国证券报   \n1    中国农业银行信用卡中心由北京搬到上海了！  农行行长杨明生日前在信用卡中心揭牌仪式上表示，此...       人民日报   \n2    在新基金快速发行以及申购资金回流的情况下，市场总体上呈现资金流动性过剩格局，考虑到现阶段权重...      杭州新希望   \n3    胜利股份（000407）公司子公司填海造地2800亩，以青岛的地价估算，静态价值在10亿元左...       源达投资   \n4    由于全球最大的俄罗斯Uralkaly钾矿被淹，产量大减，同时满洲里口岸铁路在修复线，导致中俄...       银河证券   \n..                                                 ...        ...   \n495  【本报讯】昨日，不少职业股民没有喜形于色，反而忧心忡忡。一位有8年股龄的投资者昨天收盘后告诉...      深圳特区报   \n496  争议达数年之久的政策性银行转型问题，在上周得以尘埃落定。在上周国务院有关部门召开的高层会议上...   21世纪经济报道   \n497  中国银行上海分行近日推出美元6个月期汇聚宝“期限可变”产品，销售截至日为12月06日。该产品...       新闻晨报   \n498  汽车行业2007年投资策略      2006年全国汽车产销量有望突破700万辆大关，中国汽...    中原证券研究所   \n499  □本报记者赵学毅    凯迪电力０００９３９、大商股份６００６９４、Ｓ华夏通６００...       证券日报   \n\n                                         Title&Content  \\\n0    建设银行原董事长张恩照一审被判15年 本报记者 田雨 李京华    中国建设银行股份有限公司...   \n1    农行信用卡中心搬到上海滩 中国农业银行信用卡中心由北京搬到上海了！  农行行长杨明生日前在信...   \n2    外运发展：价值型蓝筹股补涨要求强烈 在新基金快速发行以及申购资金回流的情况下，市场总体上呈现...   \n3    胜利股份：稳步走强形成标准上升通道 胜利股份（000407）公司子公司填海造地2800亩，以...   \n4    南风化工：钾肥三雄之一 被\"中化\"相中 由于全球最大的俄罗斯Uralkaly钾矿被淹，产量大...   \n..                                                 ...   \n495  散户：态度谨慎不敢追涨 【本报讯】昨日，不少职业股民没有喜形于色，反而忧心忡忡。一位有8年股...   \n496  家开发银行转型暂未上路 商业性银行一年浮出 争议达数年之久的政策性银行转型问题，在上周得以尘...   \n497  中行发行6个月期汇聚宝 中国银行上海分行近日推出美元6个月期汇聚宝“期限可变”产品，销售截至...   \n498  汽车行业：轿车增长驱动汽车大国崛起 汽车行业2007年投资策略      2006年全国汽车...   \n499  凯迪电力等公司巨额收购资产 □本报记者赵学毅    凯迪电力０００９３９、大商股份６０...   \n\n                                      Company  Sentiment  \n0                                    ['建设银行']          0  \n1                                    ['农业银行']          2  \n2                            ['中国国航', '外运发展']          2  \n3                                    ['胜利股份']          2  \n4                                    ['冠农股份']          2  \n..                                        ...        ...  \n495                                  ['中国石化']          0  \n496                          ['建设银行', '工商银行']          1  \n497                                  ['中国银行']          1  \n498  ['江淮汽车', '中国重汽', '宇通客车', '长安汽车', '福耀玻璃']          1  \n499                          ['大商股份', '东湖高新']          1  \n\n[500 rows x 8 columns]",
      "text/html": "<div>\n<style scoped>\n    .dataframe tbody tr th:only-of-type {\n        vertical-align: middle;\n    }\n\n    .dataframe tbody tr th {\n        vertical-align: top;\n    }\n\n    .dataframe thead th {\n        text-align: right;\n    }\n</style>\n<table border=\"1\" class=\"dataframe\">\n  <thead>\n    <tr style=\"text-align: right;\">\n      <th></th>\n      <th>Unnamed: 0</th>\n      <th>NewsID</th>\n      <th>Title</th>\n      <th>NewsContent</th>\n      <th>NewsSource</th>\n      <th>Title&amp;Content</th>\n      <th>Company</th>\n      <th>Sentiment</th>\n    </tr>\n  </thead>\n  <tbody>\n    <tr>\n      <th>0</th>\n      <td>0</td>\n      <td>1</td>\n      <td>建设银行原董事长张恩照一审被判15年</td>\n      <td>本报记者 田雨 李京华    中国建设银行股份有限公司原董事长张恩照受贿案３日一审宣判，北京...</td>\n      <td>中国证券报</td>\n      <td>建设银行原董事长张恩照一审被判15年 本报记者 田雨 李京华    中国建设银行股份有限公司...</td>\n      <td>['建设银行']</td>\n      <td>0</td>\n    </tr>\n    <tr>\n      <th>1</th>\n      <td>1</td>\n      <td>2</td>\n      <td>农行信用卡中心搬到上海滩</td>\n      <td>中国农业银行信用卡中心由北京搬到上海了！  农行行长杨明生日前在信用卡中心揭牌仪式上表示，此...</td>\n      <td>人民日报</td>\n      <td>农行信用卡中心搬到上海滩 中国农业银行信用卡中心由北京搬到上海了！  农行行长杨明生日前在信...</td>\n      <td>['农业银行']</td>\n      <td>2</td>\n    </tr>\n    <tr>\n      <th>2</th>\n      <td>2</td>\n      <td>3</td>\n      <td>外运发展：价值型蓝筹股补涨要求强烈</td>\n      <td>在新基金快速发行以及申购资金回流的情况下，市场总体上呈现资金流动性过剩格局，考虑到现阶段权重...</td>\n      <td>杭州新希望</td>\n      <td>外运发展：价值型蓝筹股补涨要求强烈 在新基金快速发行以及申购资金回流的情况下，市场总体上呈现...</td>\n      <td>['中国国航', '外运发展']</td>\n      <td>2</td>\n    </tr>\n    <tr>\n      <th>3</th>\n      <td>3</td>\n      <td>4</td>\n      <td>胜利股份：稳步走强形成标准上升通道</td>\n      <td>胜利股份（000407）公司子公司填海造地2800亩，以青岛的地价估算，静态价值在10亿元左...</td>\n      <td>源达投资</td>\n      <td>胜利股份：稳步走强形成标准上升通道 胜利股份（000407）公司子公司填海造地2800亩，以...</td>\n      <td>['胜利股份']</td>\n      <td>2</td>\n    </tr>\n    <tr>\n      <th>4</th>\n      <td>7</td>\n      <td>8</td>\n      <td>南风化工：钾肥三雄之一 被\"中化\"相中</td>\n      <td>由于全球最大的俄罗斯Uralkaly钾矿被淹，产量大减，同时满洲里口岸铁路在修复线，导致中俄...</td>\n      <td>银河证券</td>\n      <td>南风化工：钾肥三雄之一 被\"中化\"相中 由于全球最大的俄罗斯Uralkaly钾矿被淹，产量大...</td>\n      <td>['冠农股份']</td>\n      <td>2</td>\n    </tr>\n    <tr>\n      <th>...</th>\n      <td>...</td>\n      <td>...</td>\n      <td>...</td>\n      <td>...</td>\n      <td>...</td>\n      <td>...</td>\n      <td>...</td>\n      <td>...</td>\n    </tr>\n    <tr>\n      <th>495</th>\n      <td>961</td>\n      <td>980</td>\n      <td>散户：态度谨慎不敢追涨</td>\n      <td>【本报讯】昨日，不少职业股民没有喜形于色，反而忧心忡忡。一位有8年股龄的投资者昨天收盘后告诉...</td>\n      <td>深圳特区报</td>\n      <td>散户：态度谨慎不敢追涨 【本报讯】昨日，不少职业股民没有喜形于色，反而忧心忡忡。一位有8年股...</td>\n      <td>['中国石化']</td>\n      <td>0</td>\n    </tr>\n    <tr>\n      <th>496</th>\n      <td>963</td>\n      <td>982</td>\n      <td>家开发银行转型暂未上路 商业性银行一年浮出</td>\n      <td>争议达数年之久的政策性银行转型问题，在上周得以尘埃落定。在上周国务院有关部门召开的高层会议上...</td>\n      <td>21世纪经济报道</td>\n      <td>家开发银行转型暂未上路 商业性银行一年浮出 争议达数年之久的政策性银行转型问题，在上周得以尘...</td>\n      <td>['建设银行', '工商银行']</td>\n      <td>1</td>\n    </tr>\n    <tr>\n      <th>497</th>\n      <td>964</td>\n      <td>983</td>\n      <td>中行发行6个月期汇聚宝</td>\n      <td>中国银行上海分行近日推出美元6个月期汇聚宝“期限可变”产品，销售截至日为12月06日。该产品...</td>\n      <td>新闻晨报</td>\n      <td>中行发行6个月期汇聚宝 中国银行上海分行近日推出美元6个月期汇聚宝“期限可变”产品，销售截至...</td>\n      <td>['中国银行']</td>\n      <td>1</td>\n    </tr>\n    <tr>\n      <th>498</th>\n      <td>966</td>\n      <td>985</td>\n      <td>汽车行业：轿车增长驱动汽车大国崛起</td>\n      <td>汽车行业2007年投资策略      2006年全国汽车产销量有望突破700万辆大关，中国汽...</td>\n      <td>中原证券研究所</td>\n      <td>汽车行业：轿车增长驱动汽车大国崛起 汽车行业2007年投资策略      2006年全国汽车...</td>\n      <td>['江淮汽车', '中国重汽', '宇通客车', '长安汽车', '福耀玻璃']</td>\n      <td>1</td>\n    </tr>\n    <tr>\n      <th>499</th>\n      <td>967</td>\n      <td>986</td>\n      <td>凯迪电力等公司巨额收购资产</td>\n      <td>□本报记者赵学毅    凯迪电力０００９３９、大商股份６００６９４、Ｓ华夏通６００...</td>\n      <td>证券日报</td>\n      <td>凯迪电力等公司巨额收购资产 □本报记者赵学毅    凯迪电力０００９３９、大商股份６０...</td>\n      <td>['大商股份', '东湖高新']</td>\n      <td>1</td>\n    </tr>\n  </tbody>\n</table>\n<p>500 rows × 8 columns</p>\n</div>"
     },
     "execution_count": 5,
     "metadata": {},
     "output_type": "execute_result"
    }
   ],
   "source": [
    "news_with_sentiment = news_matched.merge(sentiment_output, on='NewsID', how='left')\n",
    "news_with_sentiment.head(500)"
   ],
   "metadata": {
    "collapsed": false,
    "ExecuteTime": {
     "end_time": "2023-12-05T13:52:33.171749300Z",
     "start_time": "2023-12-05T13:52:32.951354300Z"
    }
   },
   "id": "293815bd01823f05"
  },
  {
   "cell_type": "code",
   "execution_count": 6,
   "outputs": [
    {
     "data": {
      "text/plain": "Sentiment\n1    295052\n2    102699\n0     98302\nName: count, dtype: int64"
     },
     "execution_count": 6,
     "metadata": {},
     "output_type": "execute_result"
    }
   ],
   "source": [
    "news_with_sentiment['Sentiment'].value_counts()"
   ],
   "metadata": {
    "collapsed": false,
    "ExecuteTime": {
     "end_time": "2023-12-05T13:52:33.171749300Z",
     "start_time": "2023-12-05T13:52:33.108660700Z"
    }
   },
   "id": "9d537e3e67eb0e2"
  },
  {
   "cell_type": "code",
   "execution_count": 7,
   "outputs": [],
   "source": [
    "task_output = news_with_sentiment[['NewsID', 'NewsContent', 'Company', 'Sentiment']]"
   ],
   "metadata": {
    "collapsed": false,
    "ExecuteTime": {
     "end_time": "2023-12-05T13:52:33.171749300Z",
     "start_time": "2023-12-05T13:52:33.124193700Z"
    }
   },
   "id": "48428185b0b74ba4"
  },
  {
   "cell_type": "code",
   "execution_count": 8,
   "outputs": [
    {
     "name": "stderr",
     "output_type": "stream",
     "text": [
      "C:\\Users\\Bella\\AppData\\Local\\Temp\\ipykernel_30404\\1828610893.py:11: SettingWithCopyWarning: \n",
      "A value is trying to be set on a copy of a slice from a DataFrame.\n",
      "Try using .loc[row_indexer,col_indexer] = value instead\n",
      "\n",
      "See the caveats in the documentation: https://pandas.pydata.org/pandas-docs/stable/user_guide/indexing.html#returning-a-view-versus-a-copy\n",
      "  task_output['Sentiment'] = task_output['Sentiment'].replace({0: 0, 2: 1, 1: 1})\n",
      "C:\\Users\\Bella\\AppData\\Local\\Temp\\ipykernel_30404\\1828610893.py:13: SettingWithCopyWarning: \n",
      "A value is trying to be set on a copy of a slice from a DataFrame\n",
      "\n",
      "See the caveats in the documentation: https://pandas.pydata.org/pandas-docs/stable/user_guide/indexing.html#returning-a-view-versus-a-copy\n",
      "  task_output.rename(columns={'Company': 'Explicit_Company', 'Sentiment': 'label'}, inplace=True)\n"
     ]
    }
   ],
   "source": [
    "'''\n",
    "The Sentiment label in the initial file have such mappings:\n",
    "{0: Negative, 1: Neutral, 2:Positive}\n",
    "Considering neutral news here tend to be positive, so we change the mapping to:\n",
    "{0: Negative, 1: Positive\n",
    "'''\n",
    "# \n",
    "# # Delete the neutral news.\n",
    "# task_output = task_output[task_output['Sentiment'] != 1]\n",
    "# Make the mapping between the initial sentiment and the label required.\n",
    "task_output['Sentiment'] = task_output['Sentiment'].replace({0: 0, 2: 1, 1: 1})\n",
    "# Change the column name to fit the requirement\n",
    "task_output.rename(columns={'Company': 'Explicit_Company', 'Sentiment': 'label'}, inplace=True)"
   ],
   "metadata": {
    "collapsed": false,
    "ExecuteTime": {
     "end_time": "2023-12-05T13:52:33.203270800Z",
     "start_time": "2023-12-05T13:52:33.156235700Z"
    }
   },
   "id": "3f0f733994739e34"
  },
  {
   "cell_type": "code",
   "execution_count": 9,
   "outputs": [
    {
     "data": {
      "text/plain": "   NewsID                                        NewsContent  \\\n0       1  本报记者 田雨 李京华    中国建设银行股份有限公司原董事长张恩照受贿案３日一审宣判，北京...   \n1       2  中国农业银行信用卡中心由北京搬到上海了！  农行行长杨明生日前在信用卡中心揭牌仪式上表示，此...   \n2       3  在新基金快速发行以及申购资金回流的情况下，市场总体上呈现资金流动性过剩格局，考虑到现阶段权重...   \n3       4  胜利股份（000407）公司子公司填海造地2800亩，以青岛的地价估算，静态价值在10亿元左...   \n4       8  由于全球最大的俄罗斯Uralkaly钾矿被淹，产量大减，同时满洲里口岸铁路在修复线，导致中俄...   \n\n   Explicit_Company  label  \n0          ['建设银行']      0  \n1          ['农业银行']      1  \n2  ['中国国航', '外运发展']      1  \n3          ['胜利股份']      1  \n4          ['冠农股份']      1  ",
      "text/html": "<div>\n<style scoped>\n    .dataframe tbody tr th:only-of-type {\n        vertical-align: middle;\n    }\n\n    .dataframe tbody tr th {\n        vertical-align: top;\n    }\n\n    .dataframe thead th {\n        text-align: right;\n    }\n</style>\n<table border=\"1\" class=\"dataframe\">\n  <thead>\n    <tr style=\"text-align: right;\">\n      <th></th>\n      <th>NewsID</th>\n      <th>NewsContent</th>\n      <th>Explicit_Company</th>\n      <th>label</th>\n    </tr>\n  </thead>\n  <tbody>\n    <tr>\n      <th>0</th>\n      <td>1</td>\n      <td>本报记者 田雨 李京华    中国建设银行股份有限公司原董事长张恩照受贿案３日一审宣判，北京...</td>\n      <td>['建设银行']</td>\n      <td>0</td>\n    </tr>\n    <tr>\n      <th>1</th>\n      <td>2</td>\n      <td>中国农业银行信用卡中心由北京搬到上海了！  农行行长杨明生日前在信用卡中心揭牌仪式上表示，此...</td>\n      <td>['农业银行']</td>\n      <td>1</td>\n    </tr>\n    <tr>\n      <th>2</th>\n      <td>3</td>\n      <td>在新基金快速发行以及申购资金回流的情况下，市场总体上呈现资金流动性过剩格局，考虑到现阶段权重...</td>\n      <td>['中国国航', '外运发展']</td>\n      <td>1</td>\n    </tr>\n    <tr>\n      <th>3</th>\n      <td>4</td>\n      <td>胜利股份（000407）公司子公司填海造地2800亩，以青岛的地价估算，静态价值在10亿元左...</td>\n      <td>['胜利股份']</td>\n      <td>1</td>\n    </tr>\n    <tr>\n      <th>4</th>\n      <td>8</td>\n      <td>由于全球最大的俄罗斯Uralkaly钾矿被淹，产量大减，同时满洲里口岸铁路在修复线，导致中俄...</td>\n      <td>['冠农股份']</td>\n      <td>1</td>\n    </tr>\n  </tbody>\n</table>\n</div>"
     },
     "execution_count": 9,
     "metadata": {},
     "output_type": "execute_result"
    }
   ],
   "source": [
    "task_output.head(5)"
   ],
   "metadata": {
    "collapsed": false,
    "ExecuteTime": {
     "end_time": "2023-12-05T13:52:33.232307200Z",
     "start_time": "2023-12-05T13:52:33.186747900Z"
    }
   },
   "id": "549609dabb202fbc"
  },
  {
   "cell_type": "code",
   "execution_count": 10,
   "outputs": [],
   "source": [
    "# def string_to_list(string):\n",
    "#     return string.split(', ')\n",
    "# task_output['Explicit_Company'] = task_output['Explicit_Company'].apply(string_to_list)\n",
    "# task_output"
   ],
   "metadata": {
    "collapsed": false,
    "ExecuteTime": {
     "end_time": "2023-12-05T13:52:33.276956700Z",
     "start_time": "2023-12-05T13:52:33.202271200Z"
    }
   },
   "id": "4a56906a58b1b5d4"
  },
  {
   "cell_type": "code",
   "execution_count": 11,
   "outputs": [],
   "source": [
    "# def list_to_string(lst):\n",
    "#     # 将列表转换为字符串\n",
    "#     return ','.join(lst)\n",
    "# task_output['Explicit_Company'] = task_output['Explicit_Company'].apply(list_to_string)"
   ],
   "metadata": {
    "collapsed": false,
    "ExecuteTime": {
     "end_time": "2023-12-05T13:52:33.324013100Z",
     "start_time": "2023-12-05T13:52:33.217779800Z"
    }
   },
   "id": "92781acb66e6af6d"
  },
  {
   "cell_type": "code",
   "execution_count": 12,
   "outputs": [],
   "source": [
    "task_output.to_excel(r\"D:\\Career\\HKUST(GZ)\\5002\\dsaa5002_project\\task1.xlsx\", index=False)"
   ],
   "metadata": {
    "collapsed": false,
    "ExecuteTime": {
     "end_time": "2023-12-05T13:54:03.350981700Z",
     "start_time": "2023-12-05T13:52:33.233307700Z"
    }
   },
   "id": "14fe57405fe4b9c6"
  }
 ],
 "metadata": {
  "kernelspec": {
   "display_name": "Python 3",
   "language": "python",
   "name": "python3"
  },
  "language_info": {
   "codemirror_mode": {
    "name": "ipython",
    "version": 2
   },
   "file_extension": ".py",
   "mimetype": "text/x-python",
   "name": "python",
   "nbconvert_exporter": "python",
   "pygments_lexer": "ipython2",
   "version": "2.7.6"
  }
 },
 "nbformat": 4,
 "nbformat_minor": 5
}
