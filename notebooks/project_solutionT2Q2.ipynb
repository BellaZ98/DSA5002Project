{
 "cells": [
  {
   "cell_type": "code",
   "execution_count": 4,
   "id": "91455133a6e890d1",
   "metadata": {
    "ExecuteTime": {
     "end_time": "2023-12-05T13:54:12.378600900Z",
     "start_time": "2023-12-05T13:54:12.361088500Z"
    }
   },
   "outputs": [],
   "source": [
    "from neo4j import GraphDatabase\n",
    "from tqdm import tqdm_notebook as tqdm\n",
    "import pandas as pd\n"
   ]
  },
  {
   "cell_type": "code",
   "execution_count": 5,
   "id": "fe9e7a95405f3429",
   "metadata": {
    "ExecuteTime": {
     "end_time": "2023-12-05T13:54:12.406162100Z",
     "start_time": "2023-12-05T13:54:12.376600Z"
    }
   },
   "outputs": [],
   "source": [
    "# Connect to the neo4j server\n",
    "url = \"neo4j://localhost:7687\"\n",
    "username = \"neo4j\"\n",
    "password = \"dsaa5002\"\n",
    "\n",
    "driver = GraphDatabase.driver(url, auth=(username, password))"
   ]
  },
  {
   "cell_type": "code",
   "execution_count": 6,
   "id": "8255345cae6a4199",
   "metadata": {
    "ExecuteTime": {
     "end_time": "2023-12-05T13:54:48.706839Z",
     "start_time": "2023-12-05T13:54:12.390652Z"
    }
   },
   "outputs": [],
   "source": [
    "# Import data\n",
    "news_with_sentiment = pd.read_excel(r\"D:\\Career\\HKUST(GZ)\\5002\\dsaa5002_project\\task1.xlsx\")"
   ]
  },
  {
   "cell_type": "code",
   "execution_count": 7,
   "id": "742aa012b3519397",
   "metadata": {
    "ExecuteTime": {
     "end_time": "2023-12-05T13:54:49.129865400Z",
     "start_time": "2023-12-05T13:54:48.708851Z"
    }
   },
   "outputs": [],
   "source": [
    "# # Convert from string to list\n",
    "news_with_sentiment['Explicit_Company'] = news_with_sentiment['Explicit_Company'].apply(lambda x: x[1:-1].split(', '))\n"
   ]
  },
  {
   "cell_type": "code",
   "execution_count": 8,
   "id": "2db6b2029c26fd01",
   "metadata": {
    "ExecuteTime": {
     "end_time": "2023-12-05T13:54:49.146863900Z",
     "start_time": "2023-12-05T13:54:49.131864800Z"
    }
   },
   "outputs": [],
   "source": [
    "def match_relationships(tx, start_company):\n",
    "    query = (\n",
    "        \"MATCH (a:Company {name: $company_name})-[r]->(b) \"\n",
    "        \"RETURN b.name as company, type(r) as relation\"\n",
    "    )\n",
    "    result = tx.run(query, company_name=start_company)\n",
    "    return [(record[\"company\"], record[\"relation\"]) for record in result]\n",
    "    \n",
    "opposite_impact_sentiment = ['compete', 'dispute']\n",
    "same_impact_sentiment = ['cooperate', 'invest', 'same_industry', 'supply']"
   ]
  },
  {
   "cell_type": "code",
   "execution_count": null,
   "id": "6787004da5bb20f6",
   "metadata": {
    "ExecuteTime": {
     "start_time": "2023-12-05T13:56:48.347417400Z"
    },
    "is_executing": true
   },
   "outputs": [
    {
     "name": "stderr",
     "output_type": "stream",
     "text": [
      "C:\\Users\\Bella\\AppData\\Local\\Temp\\ipykernel_12632\\832600505.py:4: TqdmDeprecationWarning: This function will be removed in tqdm==5.0.0\n",
      "Please use `tqdm.notebook.tqdm` instead of `tqdm.tqdm_notebook`\n",
      "  for index, row in tqdm(news_with_sentiment.iterrows(), total=news_with_sentiment.shape[0]):\n"
     ]
    },
    {
     "data": {
      "application/vnd.jupyter.widget-view+json": {
       "model_id": "1c47a0aded77426f8293a2ae075ba1cf",
       "version_major": 2,
       "version_minor": 0
      },
      "text/plain": [
       "  0%|          | 0/496053 [00:00<?, ?it/s]"
      ]
     },
     "metadata": {},
     "output_type": "display_data"
    }
   ],
   "source": [
    "Implicit_Positive_Company = []\n",
    "Implicit_Negative_Company = []\n",
    "with driver.session() as session:\n",
    "    for index, row in tqdm(news_with_sentiment.iterrows(), total=news_with_sentiment.shape[0]):\n",
    "        positive = []\n",
    "        negative = []\n",
    "        for start_company in row['Explicit_Company']:\n",
    "            relationships = session.execute_read(match_relationships, start_company)\n",
    "            for end_company, relation in relationships:\n",
    "                if row['label'] == 0:\n",
    "                    if relation in opposite_impact_sentiment:\n",
    "                        negative.append(end_company)\n",
    "                    elif relation in same_impact_sentiment:\n",
    "                        positive.append(end_company)\n",
    "                else:\n",
    "                    if relation in same_impact_sentiment:\n",
    "                        negative.append(end_company)\n",
    "                    elif relation in opposite_impact_sentiment:\n",
    "                        positive.append(end_company)                        \n",
    "        Implicit_Positive_Company.append(positive)\n",
    "        Implicit_Negative_Company.append(negative)"
   ]
  },
  {
   "cell_type": "code",
   "execution_count": null,
   "id": "initial_id",
   "metadata": {
    "is_executing": true
   },
   "outputs": [],
   "source": [
    "# # only one company in 'Explicit_company'\n",
    "# Implicit_Positive_Company = []\n",
    "# Implicit_Negative_Company = []\n",
    "# with driver.session() as session:\n",
    "#     for index, row in tqdm(news_with_sentiment.iterrows(), total=news_with_sentiment.shape[0]):\n",
    "#         start_company = row['Explicit_Company']\n",
    "#         relationships = session.execute_read(match_relationships, start_company)\n",
    "#         positive = []\n",
    "#         negative = []\n",
    "#         for end_company, relation in relationships:\n",
    "#             if row['label'] == 0:\n",
    "#                 if relation in opposite_impact_sentiment:\n",
    "#                     negative.append(end_company)\n",
    "#                 elif relation in same_impact_sentiment:\n",
    "#                     positive.append(end_company)\n",
    "#             else:\n",
    "#                 if relation in same_impact_sentiment:\n",
    "#                     negative.append(end_company)\n",
    "#                 elif relation in opposite_impact_sentiment:\n",
    "#                     positive.append(end_company)\n",
    "#         Implicit_Positive_Company.append(positive)\n",
    "#         Implicit_Negative_Company.append(negative)"
   ]
  },
  {
   "cell_type": "code",
   "execution_count": null,
   "id": "d82a201720ec20ba",
   "metadata": {
    "is_executing": true
   },
   "outputs": [],
   "source": [
    "news_with_sentiment['Implicit_Positive_Company'] = Implicit_Positive_Company\n",
    "news_with_sentiment['Implicit_Negative_Company'] = Implicit_Negative_Company"
   ]
  },
  {
   "cell_type": "code",
   "execution_count": null,
   "id": "83ba129c8f1db8fa",
   "metadata": {
    "is_executing": true
   },
   "outputs": [],
   "source": [
    "news_with_sentiment"
   ]
  },
  {
   "cell_type": "code",
   "execution_count": null,
   "id": "2d0959bc52f25dc0",
   "metadata": {
    "is_executing": true
   },
   "outputs": [],
   "source": [
    "def list_to_string(lst):\n",
    "    # 将列表转换为字符串\n",
    "    return ','.join(lst)\n",
    "news_with_sentiment['Implicit_Positive_Company'] = news_with_sentiment['Implicit_Positive_Company'].apply(list_to_string)\n",
    "news_with_sentiment['Implicit_Negative_Company'] = news_with_sentiment['Implicit_Negative_Company'].apply(list_to_string)"
   ]
  },
  {
   "cell_type": "code",
   "execution_count": null,
   "id": "278302e769e90436",
   "metadata": {
    "is_executing": true
   },
   "outputs": [],
   "source": [
    "news_with_sentiment.to_excel(r\"D:\\Career\\HKUST(GZ)\\5002\\dsaa5002_project\\task2.xlsx\", index=False)"
   ]
  }
 ],
 "metadata": {
  "kernelspec": {
   "display_name": "Python 3 (ipykernel)",
   "language": "python",
   "name": "python3"
  },
  "language_info": {
   "codemirror_mode": {
    "name": "ipython",
    "version": 3
   },
   "file_extension": ".py",
   "mimetype": "text/x-python",
   "name": "python",
   "nbconvert_exporter": "python",
   "pygments_lexer": "ipython3",
   "version": "3.9.18"
  }
 },
 "nbformat": 4,
 "nbformat_minor": 5
}
