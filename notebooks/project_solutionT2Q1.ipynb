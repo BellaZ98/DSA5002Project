{
 "cells": [
  {
   "cell_type": "code",
   "execution_count": 1,
   "id": "initial_id",
   "metadata": {
    "collapsed": true,
    "ExecuteTime": {
     "end_time": "2023-12-05T04:06:50.539534Z",
     "start_time": "2023-12-05T04:06:49.787645200Z"
    }
   },
   "outputs": [],
   "source": [
    "from neo4j import GraphDatabase\n",
    "import pandas as pd\n",
    "from tqdm import tqdm_notebook as tqdm"
   ]
  },
  {
   "cell_type": "code",
   "execution_count": 2,
   "outputs": [],
   "source": [
    "# Import the data\n",
    "file_root = 'D:/Career/HKUST(GZ)/5002/dsaa5002_project/KnowledgeGraph/'\n",
    "company = pd.read_csv(file_root + 'hidy.nodes.company.csv')\n",
    "compete = pd.read_csv(file_root + 'hidy.relationships.compete.csv')\n",
    "cooperate = pd.read_csv(file_root + 'hidy.relationships.cooperate.csv')\n",
    "dispute = pd.read_csv(file_root + 'hidy.relationships.dispute.csv')\n",
    "invest = pd.read_csv(file_root + 'hidy.relationships.invest.csv')\n",
    "same_industry = pd.read_csv(file_root + 'hidy.relationships.same_industry.csv')\n",
    "supply = pd.read_csv(file_root + 'hidy.relationships.supply.csv')\n"
   ],
   "metadata": {
    "collapsed": false,
    "ExecuteTime": {
     "end_time": "2023-12-05T04:06:50.571556Z",
     "start_time": "2023-12-05T04:06:50.542533400Z"
    }
   },
   "id": "de86bc8eb27bc836"
  },
  {
   "cell_type": "code",
   "execution_count": 3,
   "outputs": [],
   "source": [
    "# Connect to the neo4j server\n",
    "url = \"neo4j://localhost:7687\"\n",
    "username = \"neo4j\"\n",
    "password = \"dsaa5002\"\n",
    "\n",
    "driver = GraphDatabase.driver(url, auth=(username, password))"
   ],
   "metadata": {
    "collapsed": false,
    "ExecuteTime": {
     "end_time": "2023-12-05T04:06:50.585066400Z",
     "start_time": "2023-12-05T04:06:50.571556Z"
    }
   },
   "id": "bbe16bfa9c258132"
  },
  {
   "cell_type": "code",
   "execution_count": 4,
   "outputs": [],
   "source": [
    "# # Clean the database\n",
    "# with driver.session() as session:\n",
    "#     session.run(\"MATCH (n) DETACH DELETE n\")"
   ],
   "metadata": {
    "collapsed": false,
    "ExecuteTime": {
     "end_time": "2023-12-05T04:06:55.264510900Z",
     "start_time": "2023-12-05T04:06:50.588069300Z"
    }
   },
   "id": "bb2a54a0a10cdefa"
  },
  {
   "cell_type": "code",
   "execution_count": 8,
   "outputs": [
    {
     "name": "stdout",
     "output_type": "stream",
     "text": [
      "Creating nodes...\n"
     ]
    },
    {
     "name": "stderr",
     "output_type": "stream",
     "text": [
      "C:\\Users\\Bella\\AppData\\Local\\Temp\\ipykernel_14280\\2470208430.py:7: TqdmDeprecationWarning: This function will be removed in tqdm==5.0.0\n",
      "Please use `tqdm.notebook.tqdm` instead of `tqdm.tqdm_notebook`\n",
      "  for i in tqdm(range(len(company))):\n"
     ]
    },
    {
     "data": {
      "text/plain": "  0%|          | 0/3974 [00:00<?, ?it/s]",
      "application/vnd.jupyter.widget-view+json": {
       "version_major": 2,
       "version_minor": 0,
       "model_id": "3091aaba77864dfb9f69c074da5a84e9"
      }
     },
     "metadata": {},
     "output_type": "display_data"
    }
   ],
   "source": [
    "# Import the company nodes\n",
    "def create_node(tx, name, ID, code, label):\n",
    "    tx.run(\"CREATE (a:Company {name: $name, ID: $ID, code: $code, label: $label})\", name=name, ID = ID, code=code, label=label)\n",
    "\n",
    "with driver.session() as session:\n",
    "    print('Creating nodes...')\n",
    "    for i in tqdm(range(len(company))):\n",
    "        session.execute_write(create_node, company['company_name'][i], company[':ID'][i], company['code'][i], company[':LABEL'][i])"
   ],
   "metadata": {
    "collapsed": false,
    "ExecuteTime": {
     "end_time": "2023-12-05T05:09:31.793416700Z",
     "start_time": "2023-12-05T05:09:17.490556400Z"
    }
   },
   "id": "720278a6d91e4575"
  },
  {
   "cell_type": "code",
   "execution_count": 9,
   "outputs": [
    {
     "name": "stdout",
     "output_type": "stream",
     "text": [
      "Creating relations compete:\n"
     ]
    },
    {
     "name": "stderr",
     "output_type": "stream",
     "text": [
      "C:\\Users\\Bella\\AppData\\Local\\Temp\\ipykernel_14280\\3414455367.py:9: TqdmDeprecationWarning: This function will be removed in tqdm==5.0.0\n",
      "Please use `tqdm.notebook.tqdm` instead of `tqdm.tqdm_notebook`\n",
      "  for i, row in tqdm(compete.iterrows()):\n"
     ]
    },
    {
     "data": {
      "text/plain": "0it [00:00, ?it/s]",
      "application/vnd.jupyter.widget-view+json": {
       "version_major": 2,
       "version_minor": 0,
       "model_id": "e5ed250090074eadb1f2298ea68783b9"
      }
     },
     "metadata": {},
     "output_type": "display_data"
    },
    {
     "name": "stdout",
     "output_type": "stream",
     "text": [
      "Creating relations cooperate:\n"
     ]
    },
    {
     "name": "stderr",
     "output_type": "stream",
     "text": [
      "C:\\Users\\Bella\\AppData\\Local\\Temp\\ipykernel_14280\\3414455367.py:13: TqdmDeprecationWarning: This function will be removed in tqdm==5.0.0\n",
      "Please use `tqdm.notebook.tqdm` instead of `tqdm.tqdm_notebook`\n",
      "  for i, row in tqdm(cooperate.iterrows()):\n"
     ]
    },
    {
     "data": {
      "text/plain": "0it [00:00, ?it/s]",
      "application/vnd.jupyter.widget-view+json": {
       "version_major": 2,
       "version_minor": 0,
       "model_id": "876ef422929d4d36b59d4c7d61eb2623"
      }
     },
     "metadata": {},
     "output_type": "display_data"
    },
    {
     "name": "stdout",
     "output_type": "stream",
     "text": [
      "Creating relations invest:\n"
     ]
    },
    {
     "name": "stderr",
     "output_type": "stream",
     "text": [
      "C:\\Users\\Bella\\AppData\\Local\\Temp\\ipykernel_14280\\3414455367.py:17: TqdmDeprecationWarning: This function will be removed in tqdm==5.0.0\n",
      "Please use `tqdm.notebook.tqdm` instead of `tqdm.tqdm_notebook`\n",
      "  for i, row in tqdm(invest.iterrows()):\n"
     ]
    },
    {
     "data": {
      "text/plain": "0it [00:00, ?it/s]",
      "application/vnd.jupyter.widget-view+json": {
       "version_major": 2,
       "version_minor": 0,
       "model_id": "2e2829e59a5a442886e1be43e0f32b37"
      }
     },
     "metadata": {},
     "output_type": "display_data"
    },
    {
     "name": "stdout",
     "output_type": "stream",
     "text": [
      "Creating relations dispute:\n"
     ]
    },
    {
     "name": "stderr",
     "output_type": "stream",
     "text": [
      "C:\\Users\\Bella\\AppData\\Local\\Temp\\ipykernel_14280\\3414455367.py:21: TqdmDeprecationWarning: This function will be removed in tqdm==5.0.0\n",
      "Please use `tqdm.notebook.tqdm` instead of `tqdm.tqdm_notebook`\n",
      "  for i, row in tqdm(dispute.iterrows()):\n"
     ]
    },
    {
     "data": {
      "text/plain": "0it [00:00, ?it/s]",
      "application/vnd.jupyter.widget-view+json": {
       "version_major": 2,
       "version_minor": 0,
       "model_id": "c73c5337ad164be0bf4a8466196a9e84"
      }
     },
     "metadata": {},
     "output_type": "display_data"
    },
    {
     "name": "stdout",
     "output_type": "stream",
     "text": [
      "Creating relations same_industry:\n"
     ]
    },
    {
     "name": "stderr",
     "output_type": "stream",
     "text": [
      "C:\\Users\\Bella\\AppData\\Local\\Temp\\ipykernel_14280\\3414455367.py:25: TqdmDeprecationWarning: This function will be removed in tqdm==5.0.0\n",
      "Please use `tqdm.notebook.tqdm` instead of `tqdm.tqdm_notebook`\n",
      "  for i, row in tqdm(same_industry.iterrows()):\n"
     ]
    },
    {
     "data": {
      "text/plain": "0it [00:00, ?it/s]",
      "application/vnd.jupyter.widget-view+json": {
       "version_major": 2,
       "version_minor": 0,
       "model_id": "ff3d4cc2bdef4b39ab817de0b8f69094"
      }
     },
     "metadata": {},
     "output_type": "display_data"
    },
    {
     "name": "stdout",
     "output_type": "stream",
     "text": [
      "Creating relations supply:\n"
     ]
    },
    {
     "name": "stderr",
     "output_type": "stream",
     "text": [
      "C:\\Users\\Bella\\AppData\\Local\\Temp\\ipykernel_14280\\3414455367.py:29: TqdmDeprecationWarning: This function will be removed in tqdm==5.0.0\n",
      "Please use `tqdm.notebook.tqdm` instead of `tqdm.tqdm_notebook`\n",
      "  for i, row in tqdm(supply.iterrows()):\n"
     ]
    },
    {
     "data": {
      "text/plain": "0it [00:00, ?it/s]",
      "application/vnd.jupyter.widget-view+json": {
       "version_major": 2,
       "version_minor": 0,
       "model_id": "8f250add0a0041d0afb42a8fca42c89d"
      }
     },
     "metadata": {},
     "output_type": "display_data"
    }
   ],
   "source": [
    "# Load the relations\n",
    "def create_relation(tx, start_ID, end_ID, relation):\n",
    "    query = f\"MATCH (a:Company), (b:Company) WHERE a.ID = $start_ID AND b.ID = $end_ID MERGE (a)-[r:{relation}]->(b)\"\n",
    "    tx.run(query, start_ID=start_ID, end_ID=end_ID)\n",
    "    \n",
    "\n",
    "with driver.session() as session:\n",
    "    print('Creating relations compete:')\n",
    "    for i, row in tqdm(compete.iterrows()):\n",
    "        session.execute_write(create_relation, row[':START_ID'], row[':END_ID'], row[':TYPE'])\n",
    "        \n",
    "    print('Creating relations cooperate:')\n",
    "    for i, row in tqdm(cooperate.iterrows()):\n",
    "        session.execute_write(create_relation, row[':START_ID'], row[':END_ID'], row[':TYPE'])\n",
    "    \n",
    "    print('Creating relations invest:')\n",
    "    for i, row in tqdm(invest.iterrows()):\n",
    "        session.execute_write(create_relation, row[':START_ID'], row[':END_ID'], row[':TYPE'])\n",
    "        \n",
    "    print('Creating relations dispute:')\n",
    "    for i, row in tqdm(dispute.iterrows()):\n",
    "        session.execute_write(create_relation, row[':START_ID'], row[':END_ID'], row[':TYPE'])\n",
    "        \n",
    "    print('Creating relations same_industry:')\n",
    "    for i, row in tqdm(same_industry.iterrows()):\n",
    "        session.execute_write(create_relation, row[':START_ID'], row[':END_ID'], row[':TYPE'])\n",
    "    \n",
    "    print('Creating relations supply:')\n",
    "    for i, row in tqdm(supply.iterrows()):\n",
    "        session.execute_write(create_relation, row[':START_ID'], row[':END_ID'], row[':TYPE'])\n"
   ],
   "metadata": {
    "collapsed": false,
    "ExecuteTime": {
     "end_time": "2023-12-05T05:10:11.673150800Z",
     "start_time": "2023-12-05T05:09:34.971628500Z"
    }
   },
   "id": "86da1ea2804c2ce6"
  }
 ],
 "metadata": {
  "kernelspec": {
   "display_name": "Python 3",
   "language": "python",
   "name": "python3"
  },
  "language_info": {
   "codemirror_mode": {
    "name": "ipython",
    "version": 2
   },
   "file_extension": ".py",
   "mimetype": "text/x-python",
   "name": "python",
   "nbconvert_exporter": "python",
   "pygments_lexer": "ipython2",
   "version": "2.7.6"
  }
 },
 "nbformat": 4,
 "nbformat_minor": 5
}
